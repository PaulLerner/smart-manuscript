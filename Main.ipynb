{
 "cells": [
  {
   "cell_type": "markdown",
   "metadata": {},
   "source": [
    "# max_len per stroke\n",
    "training set (0+1) | validation set (2) | test set (3)\n",
    "--|--|--\n",
    "289|233|218"
   ]
  },
  {
   "cell_type": "code",
   "execution_count": 1,
   "metadata": {},
   "outputs": [
    {
     "name": "stdout",
     "output_type": "stream",
     "text": [
      "using cuda device\n"
     ]
    }
   ],
   "source": [
    "#smart manuscript\n",
    "from smartmanuscript.corpus_iam import _import_set\n",
    "\n",
    "#visualization\n",
    "import matplotlib.pyplot as plt\n",
    "import seaborn as sns\n",
    "sns.set()\n",
    "sns.set_style(\"darkgrid\", {'axes.grid' : False})#for prettier plots\n",
    "#math tools\n",
    "import numpy as np\n",
    "#machine learning\n",
    "import torch\n",
    "from sklearn.model_selection import StratifiedKFold\n",
    "USE_CUDA = torch.cuda.is_available()\n",
    "device = torch.device(\"cuda\" if USE_CUDA else \"cpu\")\n",
    "print(\"using\",device,\"device\")\n",
    "#io\n",
    "from os.path import join\n",
    "from os.path import exists\n",
    "from os import makedirs\n",
    "from os import listdir\n",
    "import pickle\n",
    "#utils\n",
    "from time import time\n",
    "import warnings"
   ]
  },
  {
   "cell_type": "markdown",
   "metadata": {},
   "source": [
    "# Data loading"
   ]
  },
  {
   "cell_type": "code",
   "execution_count": 58,
   "metadata": {},
   "outputs": [],
   "source": [
    "set_numbers=[0,1,2,3,4]\n",
    "set_number=set_numbers[2]\n",
    "assert set_number in set_numbers\n",
    "iamondo_path=join(\"data\",\"IAMonDo-db-1.0\")\n",
    "max_len=289\n"
   ]
  },
  {
   "cell_type": "code",
   "execution_count": 67,
   "metadata": {},
   "outputs": [],
   "source": [
    "if False:\n",
    "    words, lines = _import_set(iamondo_path, \"{}.set\".format(set_number), max_files=None)\n",
    "\n",
    "    data=np.asarray([stroke for word in words for stroke in  word[1]])\n",
    "else:\n",
    "    data=np.load(join(\"data\",\"0_1.set.npy\"))"
   ]
  },
  {
   "cell_type": "code",
   "execution_count": null,
   "metadata": {},
   "outputs": [],
   "source": []
  }
 ],
 "metadata": {
  "kernelspec": {
   "display_name": "Python 3",
   "language": "python",
   "name": "python3"
  },
  "language_info": {
   "codemirror_mode": {
    "name": "ipython",
    "version": 3
   },
   "file_extension": ".py",
   "mimetype": "text/x-python",
   "name": "python",
   "nbconvert_exporter": "python",
   "pygments_lexer": "ipython3",
   "version": "3.7.2"
  }
 },
 "nbformat": 4,
 "nbformat_minor": 2
}
