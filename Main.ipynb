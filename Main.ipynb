{
 "cells": [
  {
   "cell_type": "markdown",
   "metadata": {},
   "source": [
    "- [Data](#Data)\n",
    "- [Model](#Model)\n",
    "- [Training](#Training)\n",
    "    - [10-fold-cross-validation](#10-fold-cross-validation)\n",
    "    - [#Hyperparameters](#Hyperparameters)\n",
    "- [Visualization](#Visualization)\n",
    "    - [Interpretation](#Interpretation)\n",
    "- [Implemented-but-not-used](#Implemented-but-not-used)\n",
    "    - [Debug](#Debug)\n",
    "    \n",
    "    \n",
    " set|  max word-stroke length| avg word-stroke length | max drawing-stroke length\n",
    "--|--|--|--\n",
    "training set (0+1)|289|14|**1046**\n",
    "validation set (2)|233| ?|618\n",
    "test set (3) |218|?|423\n",
    "\n",
    "trim data at 1050 which has a lot more divisors than 1046 so it's more convenient in regards to pooling"
   ]
  },
  {
   "cell_type": "code",
   "execution_count": 1,
   "metadata": {},
   "outputs": [
    {
     "name": "stdout",
     "output_type": "stream",
     "text": [
      "using cuda device\n"
     ]
    }
   ],
   "source": [
    "#smart manuscript\n",
    "from smartmanuscript.corpus_iam import _import_set\n",
    "\n",
    "#visualization\n",
    "import matplotlib.pyplot as plt\n",
    "import seaborn as sns\n",
    "sns.set()\n",
    "sns.set_style(\"whitegrid\", {'axes.grid' : False})#for prettier plots\n",
    "#math tools\n",
    "import numpy as np\n",
    "#preprocessing\n",
    "from sklearn.preprocessing import scale\n",
    "#machine learning\n",
    "import torch\n",
    "from torch.utils.data import Dataset,DataLoader\n",
    "from sklearn.model_selection import StratifiedKFold\n",
    "USE_CUDA = torch.cuda.is_available()\n",
    "device = torch.device(\"cuda\" if USE_CUDA else \"cpu\")\n",
    "print(\"using\",device,\"device\")\n",
    "#io\n",
    "from os.path import join\n",
    "from os.path import exists\n",
    "from os import makedirs\n",
    "from os import listdir\n",
    "import pickle\n",
    "import sys\n",
    "sys.path.append(\"..\")\n",
    "#utils\n",
    "from time import time\n",
    "import warnings\n",
    "#custom\n",
    "from parkinson_detection.modules.utils import *\n",
    "#models\n",
    "from parkinson_detection.modules.CNN1d import CNN1d"
   ]
  },
  {
   "cell_type": "markdown",
   "metadata": {},
   "source": [
    "# Utils"
   ]
  },
  {
   "cell_type": "code",
   "execution_count": 16,
   "metadata": {},
   "outputs": [],
   "source": [
    "def plot(plot_i,train,valid,test):\n",
    "    plt.title(model_name)\n",
    "    plt.plot(train,label=\"training\")\n",
    "    if valid is not None:\n",
    "        plt.plot(valid,label=\"validation\")\n",
    "    plt.plot(test,label=\"test\")\n",
    "    plt.xlabel(\"epochs\")\n",
    "    plt.ylabel(index2plot[plot_i])\n",
    "    plt.legend()\n",
    "    if plot_i!=0:\n",
    "        plt.ylim(0,1)\n",
    "\n",
    "def scale_data(data):\n",
    "    for i,stroke in enumerate(data):\n",
    "        #removes t0 from each timestamps so the time stamp measure represents the length of the exams\n",
    "        data[i][:,measure2index[\"timestamp\"]]-=data[i][0,measure2index[\"timestamp\"]]\n",
    "    #computes overall measures and stds\n",
    "    flat=np.asarray(flat_list(data))\n",
    "    means,stds=np.mean(flat,axis=0)[measure2index[\"timestamp\"]],np.std(flat,axis=0)[measure2index[\"timestamp\"]]\n",
    "    \n",
    "    for i,stroke in enumerate(data):\n",
    "        data[i]=scale(stroke,axis=0)        \n",
    "        #globally scale the timestamp\n",
    "        data[i][:,[measure2index[\"timestamp\"]]]=(stroke[:,[measure2index[\"timestamp\"]]]-means)/stds\n",
    "        \"\"\"if len(stroke) > max_len:\n",
    "            stroke=stroke[:max_len]\n",
    "        else:\n",
    "            stroke=np.concatenate((stroke,np.zeros(shape=(max_len-len(stroke),stroke.shape[1]))))#zero-padding\"\"\"\n",
    "    return data\n",
    "\n",
    "    \n",
    "def pad_data(data,max_len):\n",
    "    for i,stroke in enumerate(data):\n",
    "        if len(stroke) > max_len:\n",
    "            data[i]=stroke[:max_len]\n",
    "        else:\n",
    "            data[i]=np.concatenate((stroke,np.zeros(shape=(max_len-len(stroke),stroke.shape[1]))))#zero-padding\n",
    "    return data"
   ]
  },
  {
   "cell_type": "markdown",
   "metadata": {},
   "source": [
    "# Data \n",
    "## Data loading"
   ]
  },
  {
   "cell_type": "code",
   "execution_count": 10,
   "metadata": {},
   "outputs": [
    {
     "name": "stdout",
     "output_type": "stream",
     "text": [
      "loading scaled data\n",
      "train_drawings.shape (24200,)\n",
      "test_drawings.shape (11642,)\n",
      "train_words.shape (114564,)\n",
      "test_words.shape (57562,)\n"
     ]
    }
   ],
   "source": [
    "set_numbers=[0,1,2,3,4]\n",
    "set_number=set_numbers[3]\n",
    "assert set_number in set_numbers\n",
    "iamondo_path=\"data/IAMonDo-db-1.0\"#join(\"data\",\"IAMonDo-db-1.0\")\n",
    "max_len=1050\n",
    "measure2index={\"x-coordinate\":0,\"y-coordinate\":1,\"timestamp\":2,\"pressure\":3}\n",
    "index2measure=list(measure2index.keys())\n",
    "\n",
    "load_raw_data=False\n",
    "load_scaled_data=True\n",
    "if load_scaled_data and load_raw_data:\n",
    "    raise ValueError(\"load_scaled_data and load_raw_data are mutually exclusive\")\n",
    "\n",
    "if not load_scaled_data:    \n",
    "    if not load_raw_data:        \n",
    "        words, lines,drawings = _import_set(iamondo_path, \"{}.set\".format(set_number), max_files=None)\n",
    "        words=np.asarray([stroke for word in words for stroke in  word[1]])\n",
    "        drawings=np.asarray([stroke for drawing in drawings for stroke in drawing])        \n",
    "        np.save(join(\"data\",\"words_{}.set.npy\".format(set_number)),words)     \n",
    "        np.save(join(\"data\",\"drawings_{}.set.npy\".format(set_number)),drawings)\n",
    "    else:\n",
    "        print(\"loading raw data\")\n",
    "        words=np.load(join(\"data\",\"words_{}.set.npy\".format(set_number)))\n",
    "        print(\"raw words shape\",words.shape)\n",
    "        drawings=np.load(join(\"data\",\"drawings_{}.set.npy\".format(set_number)))\n",
    "        print(\"raw drawings shape\",drawings.shape)\n",
    "    print(\"scaling data\")\n",
    "    words=scale_data(words)\n",
    "    drawings=scale_data(drawings)\n",
    "    print(\"words.shape\",words.shape)\n",
    "    print(\"drawings.shape\",drawings.shape)\n",
    "    np.save(join(\"data\",\"scaled_drawings_{}.set.npy\".format(set_number)),drawings)\n",
    "    np.save(join(\"data\",\"scaled_words_{}.set.npy\".format(set_number)),words)\n",
    "else:\n",
    "    print(\"loading scaled data\")\n",
    "    train_words=np.concatenate((\n",
    "        np.load(join(\"data\",\"scaled_words_0.set.npy\")),\n",
    "        np.load(join(\"data\",\"scaled_words_1.set.npy\")),\n",
    "    ))\n",
    "    test_words=np.load(join(\"data\",\"scaled_words_3.set.npy\"))\n",
    "    train_drawings=np.concatenate((\n",
    "        np.load(join(\"data\",\"scaled_drawings_0.set.npy\")),\n",
    "        np.load(join(\"data\",\"scaled_drawings_1.set.npy\")),\n",
    "    ))\n",
    "    test_drawings=np.load(join(\"data\",\"scaled_drawings_3.set.npy\"))\n",
    "    print(\"train_drawings.shape\",train_drawings.shape)\n",
    "    print(\"test_drawings.shape\",test_drawings.shape)\n",
    "    print(\"train_words.shape\",train_words.shape)\n",
    "    print(\"test_words.shape\",test_words.shape)"
   ]
  },
  {
   "cell_type": "markdown",
   "metadata": {},
   "source": [
    "## balance the dataset\n",
    "as there is ~ 5 times more word-stroke than drawing strokes, we will discard ~ 80% of the words training and test set in order to have a balanced dataset"
   ]
  },
  {
   "cell_type": "code",
   "execution_count": 11,
   "metadata": {
    "scrolled": false
   },
   "outputs": [
    {
     "name": "stdout",
     "output_type": "stream",
     "text": [
      "train_drawings.shape (24200,)\n",
      "test_drawings.shape (11642,)\n",
      "train_words.shape (24200,)\n",
      "test_words.shape (11642,)\n"
     ]
    }
   ],
   "source": [
    "#first shuffle the words sets to remove strokes from a uniform distribution\n",
    "np.random.seed(1)\n",
    "np.random.shuffle(train_words)\n",
    "np.random.shuffle(test_words)\n",
    "#then trim the datasets\n",
    "train_words=train_words[:train_drawings.shape[0]]\n",
    "test_words=test_words[:test_drawings.shape[0]]\n",
    "print(\"train_drawings.shape\",train_drawings.shape)\n",
    "print(\"test_drawings.shape\",test_drawings.shape)\n",
    "print(\"train_words.shape\",train_words.shape)\n",
    "print(\"test_words.shape\",test_words.shape)"
   ]
  },
  {
   "cell_type": "markdown",
   "metadata": {},
   "source": [
    "## Create training, test sets and targets\n",
    "\n",
    "drawings &rarr; 0\n",
    "\n",
    "words &rarr; 1"
   ]
  },
  {
   "cell_type": "code",
   "execution_count": 139,
   "metadata": {
    "scrolled": true
   },
   "outputs": [
    {
     "name": "stdout",
     "output_type": "stream",
     "text": [
      "train_set.shape (48400,)\n",
      "train_targets.shape (48400,)\n",
      "test_set.shape (23284,)\n",
      "test_targets.shape (23284,)\n"
     ]
    }
   ],
   "source": [
    "train_set=np.concatenate((train_drawings, train_words))\n",
    "train_targets=np.concatenate((np.zeros(train_drawings.shape[0]), np.ones(train_words.shape[0])))\n",
    "test_set=np.concatenate((test_drawings, test_words))\n",
    "test_targets=np.concatenate((np.zeros(test_drawings.shape[0]), np.ones(test_words.shape[0])))\n",
    "train_idx=np.arange(train_set.shape[0])#used to shuffle the training set to facilitate SGD\n",
    "test_idx=np.arange(test_set.shape[0])#used to shuffle the test set to make sure the model doesn't memorize somehow ??\n",
    "print(\"train_set.shape\",train_set.shape)\n",
    "print(\"train_targets.shape\",train_targets.shape)\n",
    "print(\"test_set.shape\",test_set.shape)\n",
    "print(\"test_targets.shape\",test_targets.shape)"
   ]
  },
  {
   "cell_type": "markdown",
   "metadata": {},
   "source": [
    "# Training def"
   ]
  },
  {
   "cell_type": "code",
   "execution_count": 140,
   "metadata": {},
   "outputs": [],
   "source": [
    "def step(input, target, model, optimizer, loss_fn, batch_size,validation = False, device=\"cuda\"):\n",
    "    if not validation:\n",
    "        # Zero gradients\n",
    "        optimizer.zero_grad()\n",
    "\n",
    "    # Set device options\n",
    "    input=input.to(device)\n",
    "    target=target.to(device)\n",
    "    #forward pass\n",
    "    output=model(input)\n",
    "\n",
    "    # Compute loss\n",
    "    loss = loss_fn(output, target)\n",
    "    if not validation:\n",
    "        # Perform backpropagation\n",
    "        loss.backward()\n",
    "        # Adjust model weights\n",
    "        optimizer.step()\n",
    "    return loss.item(), output.squeeze().cpu().detach().numpy()"
   ]
  },
  {
   "cell_type": "markdown",
   "metadata": {},
   "source": [
    "#  Hyperparameters"
   ]
  },
  {
   "cell_type": "code",
   "execution_count": 141,
   "metadata": {},
   "outputs": [
    {
     "name": "stdout",
     "output_type": "stream",
     "text": [
      "seq_len : 1050\n",
      "layer 1\n",
      "\tafter conv1 :810\n",
      "\tafter pool1 :62\n",
      "layer 2\n",
      "\tafter conv2 :14\n",
      "\tafter pool2 :1\n",
      "layer 3\n",
      "\tafter conv3 :1\n",
      "\tafter pool3 :1\n",
      "after flatting 128\n"
     ]
    }
   ],
   "source": [
    "dropout=0.0\n",
    "hidden_size=[16,32,64]  \n",
    "conv_kernel= [8,4,3]\n",
    "pool_kernel=[8,4,3]\n",
    "seq_len=max_len\n",
    "n_seq=1\n",
    "learning_rate,hidden_size,conv_kernel,pool_kernel,dilation,dropout=0.0001, [128, 32, 128], [16, 4, 1] , [14, 13, 1] , [16, 16, 1] ,0.3\n",
    "\n",
    "stride='redef as kernel_size'\n",
    "output_size=1\n",
    "padding=[0,0,0]\n",
    "\"\"\"for d,k in list(zip(dilation,conv_kernel)):\n",
    "    padding.append((k-1)//2)#d*(k-1)//2)\"\"\"\n",
    "input_size=4\n",
    "batch_size=64\n",
    "loss_fn=torch.nn.BCELoss()#Binary cross entropy    \n",
    "\n",
    "verbose=False\n",
    "model_type=\"cnn1d\"\n",
    "input_size,conv_seq_len,hidden_size,conv_kernel,pool_kernel,padding,stride,dilation, dropout,output_size=CorrectHyperparameters(\n",
    "            input_size,seq_len,hidden_size\n",
    "                                    ,conv_kernel,pool_kernel  ,padding,stride,dilation, dropout,output_size,n_seq) \n",
    "model_name=str((model_type,learning_rate,hidden_size, dropout, conv_kernel,pool_kernel,dilation))"
   ]
  },
  {
   "cell_type": "code",
   "execution_count": 144,
   "metadata": {
    "scrolled": true
   },
   "outputs": [
    {
     "name": "stdout",
     "output_type": "stream",
     "text": [
      "(29377, 29377)\n",
      "CNN1d(\n",
      "  (model): Sequential(\n",
      "    (0): Conv1d(4, 128, kernel_size=(16,), stride=(1,), dilation=(16,))\n",
      "    (1): ReLU()\n",
      "    (2): MaxPool1d(kernel_size=13, stride=13, padding=0, dilation=1, ceil_mode=False)\n",
      "    (3): Dropout(p=0.3)\n",
      "    (4): Conv1d(128, 32, kernel_size=(4,), stride=(1,), dilation=(16,))\n",
      "    (5): ReLU()\n",
      "    (6): MaxPool1d(kernel_size=14, stride=14, padding=0, dilation=1, ceil_mode=False)\n",
      "    (7): Dropout(p=0.3)\n",
      "    (8): Conv1d(32, 128, kernel_size=(1,), stride=(1,))\n",
      "    (9): ReLU()\n",
      "    (10): MaxPool1d(kernel_size=1, stride=1, padding=0, dilation=1, ceil_mode=False)\n",
      "    (11): Dropout(p=0.3)\n",
      "    (12): Flatten()\n",
      "    (13): Linear(in_features=128, out_features=1, bias=True)\n",
      "    (14): Sigmoid()\n",
      "  )\n",
      ")\n",
      "0 train_acc : 0.6132438016528926 test_acc : 0.9832073526885415 train_loss : 1.3492984276387718 test_loss : 0.2804111014683168\n",
      "1 train_acc : 0.8574586776859504 test_acc : 0.9977667067514173 train_loss : 0.6977891532069707 test_loss : 0.05363545195291658\n",
      "2 train_acc : 0.940103305785124 test_acc : 0.9995275725820306 train_loss : 0.36427614300583416 test_loss : 0.01882256377375797\n",
      "3 train_acc : 0.9733677685950414 test_acc : 0.9995275725820306 train_loss : 0.19901973449184998 test_loss : 0.008171196324638204\n",
      "4 train_acc : 0.9862809917355372 test_acc : 0.9996993643703831 train_loss : 0.1153086238249031 test_loss : 0.004793810676066921\n",
      "5 train_acc : 0.9917561983471075 test_acc : 0.9998282082116475 train_loss : 0.07604675427089436 test_loss : 0.0033965130355132355\n",
      "6 train_acc : 0.994607438016529 test_acc : 0.9997852602645594 train_loss : 0.049002025985148745 test_loss : 0.0022458690272997247\n",
      "7 train_acc : 0.9965495867768595 test_acc : 0.9998711561587356 train_loss : 0.03301776956049163 test_loss : 0.001679304252880124\n",
      "8 train_acc : 0.9974586776859504 test_acc : 0.9998282082116475 train_loss : 0.023735453425215783 test_loss : 0.0013887357131202557\n",
      "9 train_acc : 0.9976239669421487 test_acc : 0.999656416423295 train_loss : 0.020442633262603892 test_loss : 0.0018745717503946622\n",
      "Done. Spent 2m 8s\n"
     ]
    }
   ],
   "source": [
    "torch.manual_seed(1)\n",
    "model=CNN1d(input_size,conv_seq_len,hidden_size,conv_kernel,pool_kernel ,padding,stride,dilation, dropout,output_size)\n",
    "\n",
    "model=model.to(device)\n",
    "optimizer = torch.optim.Adam(model.parameters(), lr=learning_rate)\n",
    "\n",
    "print(count_params(model))\n",
    "print(model)\n",
    "start = time()\n",
    "train_loss,test_loss=[],[]\n",
    "train_acc,test_acc=[],[]\n",
    "verbose=True\n",
    "np.random.seed(1)\n",
    "for epoch in range(10):\n",
    "    np.random.shuffle(train_idx)#shuffle train_set to facilitate SGD    \n",
    "    np.random.shuffle(test_idx)#shuffle the test set to make sure the model doesn't memorize somehow ??\n",
    "    \n",
    "    #training\n",
    "    model.train()\n",
    "    batch_loss=0\n",
    "    train_predictions=np.zeros(train_targets.shape)\n",
    "    n_samples=len(train_set)//batch_size\n",
    "    for batch_i in range(0,len(train_set),batch_size):\n",
    "        idx=train_idx[batch_i:batch_i+batch_size]\n",
    "        batch=np.asarray(list(pad_data(train_set[idx].copy(),max_len)))\n",
    "        batch=torch.Tensor(batch).transpose(1,2)\n",
    "        batch_targets=torch.Tensor(train_targets[idx]).unsqueeze(1)\n",
    "        loss,output=step(batch,batch_targets , model, optimizer, loss_fn, batch_size,False,device)\n",
    "        batch_loss+=loss   \n",
    "        train_predictions[idx]=np.around(output)        \n",
    "    train_loss.append(batch_loss/((len(test_set)//batch_size)+1))\n",
    "    train_acc.append(sum(train_predictions==train_targets)/train_targets.shape[0])\n",
    "    \n",
    "    #testing\n",
    "    model.eval()\n",
    "    batch_loss=0\n",
    "    test_predictions=np.zeros(test_targets.shape)\n",
    "    for batch_i in range(0,len(test_set),batch_size):\n",
    "        idx=test_idx[batch_i:batch_i+batch_size]\n",
    "        batch=np.asarray(list(pad_data(test_set[idx].copy(),max_len)))\n",
    "        batch=torch.Tensor(batch).transpose(1,2)\n",
    "        batch_targets=torch.Tensor(test_targets[idx]).unsqueeze(1)\n",
    "        loss,output=step(batch, batch_targets, model, optimizer, loss_fn, batch_size,True,device)\n",
    "        batch_loss+=loss\n",
    "        test_predictions[idx]=np.around(output)\n",
    "    test_loss.append(batch_loss/((len(test_set)//batch_size)+1))\n",
    "    test_acc.append(sum(test_predictions==test_targets)/test_targets.shape[0])\n",
    "    if verbose:\n",
    "        print(epoch,\"train_acc :\",train_acc[-1],\"test_acc :\",test_acc[-1],\n",
    "              \"train_loss :\",train_loss[-1],\"test_loss :\",test_loss[-1])\n",
    "\n",
    "print(\"Done. Spent\",timeSince(start))"
   ]
  },
  {
   "cell_type": "code",
   "execution_count": 145,
   "metadata": {
    "scrolled": true
   },
   "outputs": [
    {
     "name": "stderr",
     "output_type": "stream",
     "text": [
      "/home/paul/anaconda3/envs/pytorch/lib/python3.7/site-packages/ipykernel_launcher.py:13: UserWarning: did nothing\n",
      "  del sys.path[0]\n"
     ]
    }
   ],
   "source": [
    "if False:\n",
    "    directory = join(\"weights\", model_name)\n",
    "    if not exists(directory):\n",
    "        makedirs(directory)\n",
    "    torch.save({\n",
    "        'epoch': epoch,\n",
    "        'model': model.state_dict(),\n",
    "        'opt': optimizer.state_dict(),\n",
    "        'loss': test_loss[-1]\n",
    "    }, join(directory, '{}_checkpoint.tar'.format(epoch)))\n",
    "    print(\"succesfully saved\",model_name)\n",
    "else:\n",
    "    warnings.warn(\"did nothing\")"
   ]
  },
  {
   "cell_type": "markdown",
   "metadata": {},
   "source": [
    "# Visualization\n",
    "## Metrics"
   ]
  },
  {
   "cell_type": "code",
   "execution_count": 123,
   "metadata": {
    "scrolled": true
   },
   "outputs": [
    {
     "data": {
      "image/png": "[encoded data removed]",
      "text/plain": [
       "<Figure size 432x288 with 1 Axes>"
      ]
     },
     "metadata": {
      "needs_background": "light"
     },
     "output_type": "display_data"
    }
   ],
   "source": [
    "plot(1,train_acc,None,test_acc)"
   ]
  },
  {
   "cell_type": "code",
   "execution_count": 89,
   "metadata": {
    "scrolled": false
   },
   "outputs": [
    {
     "data": {
      "image/png": "[encoded data removed]",
      "text/plain": [
       "<Figure size 432x288 with 1 Axes>"
      ]
     },
     "metadata": {
      "needs_background": "light"
     },
     "output_type": "display_data"
    }
   ],
   "source": [
    "plot(0,train_loss,None,test_loss)"
   ]
  },
  {
   "cell_type": "markdown",
   "metadata": {},
   "source": [
    "## Interpretation"
   ]
  },
  {
   "cell_type": "code",
   "execution_count": 102,
   "metadata": {},
   "outputs": [],
   "source": [
    "c1=model.model[0](batch.to(device))\n",
    "r1=model.model[1](c1)\n",
    "c2=model.model[4](r1)\n",
    "r2=model.model[5](c2)\n",
    "c3=model.model[8](r2)\n",
    "r3=model.model[9](c3)"
   ]
  },
  {
   "cell_type": "code",
   "execution_count": 104,
   "metadata": {},
   "outputs": [
    {
     "data": {
      "text/plain": [
       "<matplotlib.image.AxesImage at 0x7ff3b4d07860>"
      ]
     },
     "execution_count": 104,
     "metadata": {},
     "output_type": "execute_result"
    },
    {
     "data": {
      "image/png": "[encoded data removed]",
      "text/plain": [
       "<Figure size 432x288 with 1 Axes>"
      ]
     },
     "metadata": {
      "needs_background": "light"
     },
     "output_type": "display_data"
    }
   ],
   "source": [
    "plt.imshow(test_set[-1].T,cmap=\"gray\")"
   ]
  },
  {
   "cell_type": "code",
   "execution_count": 109,
   "metadata": {},
   "outputs": [
    {
     "data": {
      "text/plain": [
       "(1, 128, 10)"
      ]
     },
     "execution_count": 109,
     "metadata": {},
     "output_type": "execute_result"
    }
   ],
   "source": [
    "c1.detach().cpu().numpy()[-1:,:,:10].shape"
   ]
  },
  {
   "cell_type": "code",
   "execution_count": 113,
   "metadata": {
    "scrolled": true
   },
   "outputs": [
    {
     "data": {
      "text/plain": [
       "<matplotlib.image.AxesImage at 0x7ff3b3ae8940>"
      ]
     },
     "execution_count": 113,
     "metadata": {},
     "output_type": "execute_result"
    },
    {
     "data": {
      "image/png": "[encoded data removed]",
      "text/plain": [
       "<Figure size 432x288 with 1 Axes>"
      ]
     },
     "metadata": {
      "needs_background": "light"
     },
     "output_type": "display_data"
    }
   ],
   "source": [
    "plt.imshow(r1.detach().cpu().numpy()[-1,:100,:100],cmap=\"gray\")"
   ]
  },
  {
   "cell_type": "markdown",
   "metadata": {},
   "source": [
    "#  Data exploration"
   ]
  },
  {
   "cell_type": "code",
   "execution_count": 10,
   "metadata": {},
   "outputs": [
    {
     "data": {
      "text/plain": [
       "289"
      ]
     },
     "execution_count": 10,
     "metadata": {},
     "output_type": "execute_result"
    }
   ],
   "source": [
    "max([stroke.shape[0] for stroke in words])"
   ]
  },
  {
   "cell_type": "code",
   "execution_count": 30,
   "metadata": {},
   "outputs": [
    {
     "data": {
      "image/png": "[encoded data removed]",
      "text/plain": [
       "<Figure size 432x288 with 1 Axes>"
      ]
     },
     "metadata": {
      "needs_background": "light"
     },
     "output_type": "display_data"
    }
   ],
   "source": [
    "for j,i in enumerate(drawings[0]):\n",
    "    plt.plot(i[:,0],i[:,1])"
   ]
  },
  {
   "cell_type": "code",
   "execution_count": 28,
   "metadata": {},
   "outputs": [
    {
     "data": {
      "image/png": "[encoded data removed]",
      "text/plain": [
       "<Figure size 1152x864 with 4 Axes>"
      ]
     },
     "metadata": {
      "needs_background": "light"
     },
     "output_type": "display_data"
    }
   ],
   "source": [
    "plot_measures(drawings[0][0])"
   ]
  },
  {
   "cell_type": "code",
   "execution_count": 46,
   "metadata": {
    "scrolled": true
   },
   "outputs": [
    {
     "data": {
      "image/png": "[encoded data removed]",
      "text/plain": [
       "<Figure size 432x288 with 1 Axes>"
      ]
     },
     "metadata": {
      "needs_background": "light"
     },
     "output_type": "display_data"
    }
   ],
   "source": [
    "for s in words[0][1]:\n",
    "    plot_task(s,measure2index)"
   ]
  },
  {
   "cell_type": "markdown",
   "metadata": {},
   "source": [
    "# AE hyperparams"
   ]
  },
  {
   "cell_type": "code",
   "execution_count": 14,
   "metadata": {},
   "outputs": [],
   "source": [
    "dropout=0.0\n",
    "hidden_size=[16,32,64]  \n",
    "conv_kernel= [8,4,3]\n",
    "pool_kernel=[8,4,3]\n",
    "assert (max_len/np.prod(pool_kernel))%1==0\n",
    "dilation= 'redef as 1'#[1,1]\n",
    "stride='redef as kernel_size'\n",
    "output_size=\"foo\"\n",
    "padding=[0,0,0]\n",
    "\"\"\"for d,k in list(zip(dilation,conv_kernel)):\n",
    "    padding.append((k-1)//2)#d*(k-1)//2)\"\"\"\n",
    "input_size=2\n",
    "batch_size=64\n",
    "loss_fn=torch.nn.MSELoss()\n",
    "\n",
    "learning_rate=1e-3\n",
    "verbose=False\n",
    "model_type=\"CNNAutoencoder\"\n",
    "\n",
    "model_name=str((model_type,learning_rate,hidden_size, dropout, conv_kernel,pool_kernel,dilation))"
   ]
  },
  {
   "cell_type": "markdown",
   "metadata": {},
   "source": [
    "# for a fully pytorch code (requires ~ 10 GB of RAM)\n",
    "## Pad the dataset"
   ]
  },
  {
   "cell_type": "code",
   "execution_count": 9,
   "metadata": {},
   "outputs": [],
   "source": [
    "test_words=pad_data(test_words,max_len)\n",
    "\n",
    "test_drawings=pad_data(test_drawings,max_len)"
   ]
  },
  {
   "cell_type": "code",
   "execution_count": 109,
   "metadata": {},
   "outputs": [],
   "source": [
    "train_words=pad_data(train_words)\n",
    "\n",
    "train_drawings=pad_data(train_drawings)"
   ]
  },
  {
   "cell_type": "markdown",
   "metadata": {},
   "source": [
    "## Create PyTorch dataset"
   ]
  },
  {
   "cell_type": "code",
   "execution_count": null,
   "metadata": {},
   "outputs": [],
   "source": [
    "class IamonDoDataset(Dataset):\n",
    "    def __init__(self, drawings, words):\n",
    "        self.data=np.concatenate((drawings, words))\n",
    "        self.targets=np.concatenate((np.zeros(drawings.shape[0]), np.ones(words.shape[0])))\n",
    "    def __len__(self):\n",
    "        return len(self.data)\n",
    "\n",
    "    def __getitem__(self, idx):\n",
    "        \n",
    "        return self.data[idx],self.targets[idx]\n",
    "    \n",
    "test_set=IamonDoDataset(test_drawings, test_words)\n",
    "train_set=IamonDoDataset(train_drawings, train_words)"
   ]
  },
  {
   "cell_type": "code",
   "execution_count": null,
   "metadata": {},
   "outputs": [],
   "source": [
    "\n",
    "test_loader = DataLoader(test_set, batch_size=batch_size, shuffle=True)"
   ]
  },
  {
   "cell_type": "code",
   "execution_count": 102,
   "metadata": {},
   "outputs": [],
   "source": [
    "for i_batch, batch in enumerate(test_loader):\n",
    "    batch_data, batch_targets=batch\n",
    "    batch_data=batch_data.transpose(1,2).to(device)\n",
    "    batch_targets=batch_targets.to(device)\n",
    "    #print(i_batch, batch_data.shape,batch_targets.shape)\n",
    "    "
   ]
  },
  {
   "cell_type": "markdown",
   "metadata": {},
   "source": [
    "# keep for ref"
   ]
  },
  {
   "cell_type": "code",
   "execution_count": 2,
   "metadata": {},
   "outputs": [
    {
     "data": {
      "text/plain": [
       "array([1, 0, 2, 3])"
      ]
     },
     "execution_count": 2,
     "metadata": {},
     "output_type": "execute_result"
    }
   ],
   "source": [
    "foo=np.arange(8)#used this in pahaw to reverse the measures\n",
    "\n",
    "keepmeasures=np.array([1,0,2,3])\n",
    "\n",
    "foo[keepmeasures]"
   ]
  }
 ],
 "metadata": {
  "kernelspec": {
   "display_name": "Python 3",
   "language": "python",
   "name": "python3"
  },
  "language_info": {
   "codemirror_mode": {
    "name": "ipython",
    "version": 3
   },
   "file_extension": ".py",
   "mimetype": "text/x-python",
   "name": "python",
   "nbconvert_exporter": "python",
   "pygments_lexer": "ipython3",
   "version": "3.7.2"
  }
 },
 "nbformat": 4,
 "nbformat_minor": 2
}
