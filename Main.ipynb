{
 "cells": [
  {
   "cell_type": "markdown",
   "metadata": {},
   "source": [
    "\n",
    " set|  max strokes length| avg strokes length\n",
    "--|--|--\n",
    "training set (0+1)|289|14\n",
    "validation set (2)|233|\n",
    "test set (3) |218|\n",
    "\n",
    "trim data at 288 because 289 is only divisible by 17 which is a primary number so it's not convenient in regards to pooling"
   ]
  },
  {
   "cell_type": "code",
   "execution_count": 4,
   "metadata": {},
   "outputs": [
    {
     "name": "stdout",
     "output_type": "stream",
     "text": [
      "using cuda device\n"
     ]
    }
   ],
   "source": [
    "#smart manuscript\n",
    "from smartmanuscript.corpus_iam import _import_set\n",
    "\n",
    "#visualization\n",
    "import matplotlib.pyplot as plt\n",
    "import seaborn as sns\n",
    "sns.set()\n",
    "sns.set_style(\"whitegrid\", {'axes.grid' : False})#for prettier plots\n",
    "#math tools\n",
    "import numpy as np\n",
    "#preprocessing\n",
    "from sklearn.preprocessing import scale\n",
    "#machine learning\n",
    "import torch\n",
    "from sklearn.model_selection import StratifiedKFold\n",
    "USE_CUDA = torch.cuda.is_available()\n",
    "device = torch.device(\"cuda\" if USE_CUDA else \"cpu\")\n",
    "print(\"using\",device,\"device\")\n",
    "#io\n",
    "from os.path import join\n",
    "from os.path import exists\n",
    "from os import makedirs\n",
    "from os import listdir\n",
    "import pickle\n",
    "import sys\n",
    "sys.path.append(\"..\")\n",
    "#utils\n",
    "from time import time\n",
    "import warnings\n",
    "#custom\n",
    "from parkinson_detection.modules.utils import *"
   ]
  },
  {
   "cell_type": "markdown",
   "metadata": {},
   "source": [
    "# Utils"
   ]
  },
  {
   "cell_type": "code",
   "execution_count": 5,
   "metadata": {},
   "outputs": [],
   "source": [
    "def plot(plot_i,train,valid,test):\n",
    "    plt.title(model_name)\n",
    "    plt.plot(train,label=\"training\")\n",
    "    if valid is not None:\n",
    "        plt.plot(valid,label=\"validation\")\n",
    "    plt.plot(test,label=\"test\")\n",
    "    plt.xlabel(\"epochs\")\n",
    "    plt.ylabel(index2plot[plot_i])\n",
    "    plt.legend()\n",
    "    if plot_i!=0:\n",
    "        plt.ylim(0,1)\n",
    "\n",
    "def plot_measures(task,subplot=True,figsize=(16,12)):\n",
    "    plt.figure(figsize=figsize)\n",
    "    for i,measure in enumerate(index2measure):\n",
    "        if subplot:\n",
    "            plt.subplot(3,3,i+1)\n",
    "        plt.plot(task[:,i])\n",
    "        plt.xlabel(\"timesteps\")\n",
    "        plt.ylabel(measure)"
   ]
  },
  {
   "cell_type": "markdown",
   "metadata": {},
   "source": [
    "# Data loading"
   ]
  },
  {
   "cell_type": "code",
   "execution_count": 2,
   "metadata": {},
   "outputs": [],
   "source": [
    "set_numbers=[0,1,2,3,4]\n",
    "set_number=set_numbers[2]\n",
    "assert set_number in set_numbers\n",
    "iamondo_path=\"data/IAMonDo-db-1.0\"#join(\"data\",\"IAMonDo-db-1.0\")\n",
    "max_len=288\n",
    "measure2index={\"y-coordinate\":0,\"x-coordinate\":1}\n",
    "index2measure=list(measure2index.keys())"
   ]
  },
  {
   "cell_type": "code",
   "execution_count": 3,
   "metadata": {},
   "outputs": [
    {
     "name": "stdout",
     "output_type": "stream",
     "text": [
      "import set: data/IAMonDo-db-1.0/2.set\n",
      " 949 words and 324 textlines have been imported from 11 inkml-files \n"
     ]
    }
   ],
   "source": [
    "#smart manuscript\n",
    "from smartmanuscript.corpus_iam import _import_set\n",
    "\n",
    "words, lines,drawings = _import_set(iamondo_path, \"{}.set\".format(set_number), max_files=10)"
   ]
  },
  {
   "cell_type": "code",
   "execution_count": 19,
   "metadata": {},
   "outputs": [
    {
     "data": {
      "image/png": "[encoded data removed]",
      "text/plain": [
       "<Figure size 432x288 with 1 Axes>"
      ]
     },
     "metadata": {},
     "output_type": "display_data"
    }
   ],
   "source": [
    "for i in range(10):\n",
    "    plot_task(drawings[0][i])"
   ]
  },
  {
   "cell_type": "code",
   "execution_count": 28,
   "metadata": {},
   "outputs": [],
   "source": [
    "str_list=\"\"\"478.75 897.5 1219149371.986 52,'.25'.125'.013'58,\"1.25\"-4.125\".014\"-52, 1-3.625-.001-2,-1.625 4.625-.012-4,-.75 1.125-.001 0,-.875 1.25 0-2,-.625 .75 .001 0,-3.25 3.375 .012-6, 2-2.625 .001 8, 1.5-1.625-.014 4,-1.25-2.5 .027 2, 1.75 3.5-.013-4,-2.625 6.875 .013-2, 2.75-4-.027 0, .75 1.375 .027 0,-1.25-8.5 0 0,-.5 1.25-.026 0,-.125 .75-.001 0,-.125 .875 0 0, 0 .875 .001 0, .375 .625-.001 0, .25 1 0-2, .625 .75 .001 2, .875-.375-.001 0, .75-.875 0 0, 0-1 .001 2, .25-.875-.001-2,-.125-1.125 0 2,-.25-.75 .001-2,-1 1.125-.001 0,-.75 .5 0 0,-.75 .5 .001 0,-.375 1.25-.001-2,-2.125 3.625 .014 0, 2.375 1.25-.001 0, 2-4.125-.012 4, .75-1.25 .012 0,-.375-1.25-.012 0, .25-.75-.001-2,-.625-.375 0 0,-.5-.25 .001 0,-.5 1-.001 0,-.625 .375 0 0,-.25 1.125 .001-2,-1.125 1.5-.001 0, .125 .875 0-2, .5 .625 .001-4, .5 .25-.001 0, 1.125-1.25 .014 24, 1.625-3.375-.001-10,-.125-2.25 .001-4,-.75 .125 0-2,-.875 2.5-.014 0,-.25 .875 0-2,-1 .875 .001 0,-1 1.25-.001-4, .75 .625 0-12, .625 .25 .001-76, .625-1.125-.001 94, 1-1.75 0 108, .625-1.75 .014-98,-.125 0-.014-10,-.375-1.625 .014 2,-1 2.625-.014-2,-.25 .625 .001 0,-1.625 1.25-.001-2,-.875 1 0 0,-2.625 3.625 .014-12, 3.875-2.25-.014 10, 1 .25 .001 8, .875-1.5-.001 8, .75-1.375 0-10, 1.625-2 .014 2, 1.125-4.125 0-4,-1.375-1.5-.001 2,-1.5 3.875-.012-2,-1 1-.001 0,-.375 1.125 0 0,-1 1.25 .001-2,-1 1-.001 0,-2.75 2.75 .027-2, 6.25-5.875 .04 10,-.5 2.875-.053-8, 1.25 .75-.001 2, .75-2.25 .001 2,-.75-1.375-.014-2, .875-3.375 .014 2,-2.375 3.5-.014-2,-.5 .875 .001 0,-1.125 1.25-.001-2,-1.25 1.5 0 2,-.125 1.25 .001-4, 0 1.75-.001-12, 0 1.5 0-64, .375-.375 .014 174, 3.125-6-.014-88, 1.5-2.875 .014-4, 1-5.875 0 0,-1.375 .375-.001-4,-1.25 4.75-.012-4\"\"\".split(\",\")"
   ]
  },
  {
   "cell_type": "code",
   "execution_count": 41,
   "metadata": {},
   "outputs": [],
   "source": [
    "x_y=np.asarray([np.asarray(str_list[i].replace(\"-\",\" -\").split(),dtype=float) for i,_ in enumerate(str_list) if i%3==0])"
   ]
  },
  {
   "cell_type": "code",
   "execution_count": 59,
   "metadata": {},
   "outputs": [],
   "source": [
    "np_array=np.zeros((len(str_list)//3+1,4),dtype=float)"
   ]
  },
  {
   "cell_type": "code",
   "execution_count": 60,
   "metadata": {},
   "outputs": [],
   "source": [
    "last_values=np.zeros(4,dtype=float)\n",
    "for i,_ in enumerate(str_list):\n",
    "    if i%3==0:\n",
    "        cur_val=np.asarray(str_list[i].replace(\"-\",\" -\").split(),dtype=float)\n",
    "        last_values+=cur_val\n",
    "        np_array[i//3]=last_values\n",
    "        \n"
   ]
  },
  {
   "cell_type": "code",
   "execution_count": 65,
   "metadata": {},
   "outputs": [
    {
     "data": {
      "image/png": "[encoded data removed]",
      "text/plain": [
       "<Figure size 432x288 with 1 Axes>"
      ]
     },
     "metadata": {},
     "output_type": "display_data"
    }
   ],
   "source": [
    "plot_task(np_array[:,:2])"
   ]
  },
  {
   "cell_type": "code",
   "execution_count": 57,
   "metadata": {},
   "outputs": [
    {
     "data": {
      "text/plain": [
       "478.875"
      ]
     },
     "execution_count": 57,
     "metadata": {},
     "output_type": "execute_result"
    }
   ],
   "source": [
    " 4.79750000e+02 -8.75000000e-01  "
   ]
  },
  {
   "cell_type": "code",
   "execution_count": 1,
   "metadata": {},
   "outputs": [],
   "source": [
    "from smartmanuscript.inkml import TraceParser\n",
    "\n",
    "parse = TraceParser()\n",
    "\n",
    "\n",
    "target=parse(\"\"\"478.75 897.5 1219149371.986 52,'.25'.125'.013'58,\"1.25\"-4.125\".014\"-52, 1-3.625-.001-2,-1.625 4.625-.012-4,-.75 1.125-.001 0,-.875 1.25 0-2,-.625 .75 .001 0,-3.25 3.375 .012-6, 2-2.625 .001 8, 1.5-1.625-.014 4,-1.25-2.5 .027 2, 1.75 3.5-.013-4,-2.625 6.875 .013-2, 2.75-4-.027 0, .75 1.375 .027 0,-1.25-8.5 0 0,-.5 1.25-.026 0,-.125 .75-.001 0,-.125 .875 0 0, 0 .875 .001 0, .375 .625-.001 0, .25 1 0-2, .625 .75 .001 2, .875-.375-.001 0, .75-.875 0 0, 0-1 .001 2, .25-.875-.001-2,-.125-1.125 0 2,-.25-.75 .001-2,-1 1.125-.001 0,-.75 .5 0 0,-.75 .5 .001 0,-.375 1.25-.001-2,-2.125 3.625 .014 0, 2.375 1.25-.001 0, 2-4.125-.012 4, .75-1.25 .012 0,-.375-1.25-.012 0, .25-.75-.001-2,-.625-.375 0 0,-.5-.25 .001 0,-.5 1-.001 0,-.625 .375 0 0,-.25 1.125 .001-2,-1.125 1.5-.001 0, .125 .875 0-2, .5 .625 .001-4, .5 .25-.001 0, 1.125-1.25 .014 24, 1.625-3.375-.001-10,-.125-2.25 .001-4,-.75 .125 0-2,-.875 2.5-.014 0,-.25 .875 0-2,-1 .875 .001 0,-1 1.25-.001-4, .75 .625 0-12, .625 .25 .001-76, .625-1.125-.001 94, 1-1.75 0 108, .625-1.75 .014-98,-.125 0-.014-10,-.375-1.625 .014 2,-1 2.625-.014-2,-.25 .625 .001 0,-1.625 1.25-.001-2,-.875 1 0 0,-2.625 3.625 .014-12, 3.875-2.25-.014 10, 1 .25 .001 8, .875-1.5-.001 8, .75-1.375 0-10, 1.625-2 .014 2, 1.125-4.125 0-4,-1.375-1.5-.001 2,-1.5 3.875-.012-2,-1 1-.001 0,-.375 1.125 0 0,-1 1.25 .001-2,-1 1-.001 0,-2.75 2.75 .027-2, 6.25-5.875 .04 10,-.5 2.875-.053-8, 1.25 .75-.001 2, .75-2.25 .001 2,-.75-1.375-.014-2, .875-3.375 .014 2,-2.375 3.5-.014-2,-.5 .875 .001 0,-1.125 1.25-.001-2,-1.25 1.5 0 2,-.125 1.25 .001-4, 0 1.75-.001-12, 0 1.5 0-64, .375-.375 .014 174, 3.125-6-.014-88, 1.5-2.875 .014-4, 1-5.875 0 0,-1.375 .375-.001-4,-1.25 4.75-.012-4\"\"\")"
   ]
  },
  {
   "cell_type": "code",
   "execution_count": 2,
   "metadata": {},
   "outputs": [
    {
     "data": {
      "text/plain": [
       "(101, 4)"
      ]
     },
     "execution_count": 2,
     "metadata": {},
     "output_type": "execute_result"
    }
   ],
   "source": [
    "target.shape"
   ]
  },
  {
   "cell_type": "code",
   "execution_count": 8,
   "metadata": {},
   "outputs": [
    {
     "data": {
      "text/plain": [
       "[<matplotlib.lines.Line2D at 0x7f748706e320>]"
      ]
     },
     "execution_count": 8,
     "metadata": {},
     "output_type": "execute_result"
    },
    {
     "data": {
      "image/png": "[encoded data removed]",
      "text/plain": [
       "<Figure size 432x288 with 1 Axes>"
      ]
     },
     "metadata": {},
     "output_type": "display_data"
    }
   ],
   "source": [
    "plt.plot(target[:,:2])\n",
    "plt.plot(target[:,-1])"
   ]
  },
  {
   "cell_type": "code",
   "execution_count": 9,
   "metadata": {},
   "outputs": [
    {
     "data": {
      "text/plain": [
       "[<matplotlib.lines.Line2D at 0x7f7487046160>]"
      ]
     },
     "execution_count": 9,
     "metadata": {},
     "output_type": "execute_result"
    },
    {
     "data": {
      "image/png": "[encoded data removed]",
      "text/plain": [
       "<Figure size 432x288 with 1 Axes>"
      ]
     },
     "metadata": {},
     "output_type": "display_data"
    }
   ],
   "source": [
    "plt.plot(target[:,2])"
   ]
  },
  {
   "cell_type": "code",
   "execution_count": 7,
   "metadata": {},
   "outputs": [
    {
     "data": {
      "text/plain": [
       "[<matplotlib.lines.Line2D at 0x7f7487108b00>,\n",
       " <matplotlib.lines.Line2D at 0x7f7487108c88>]"
      ]
     },
     "execution_count": 7,
     "metadata": {},
     "output_type": "execute_result"
    },
    {
     "data": {
      "image/png": "[encoded data removed]",
      "text/plain": [
       "<Figure size 432x288 with 1 Axes>"
      ]
     },
     "metadata": {},
     "output_type": "display_data"
    }
   ],
   "source": [
    "plt.plot(target[:,:2])"
   ]
  },
  {
   "cell_type": "code",
   "execution_count": 87,
   "metadata": {},
   "outputs": [
    {
     "name": "stdout",
     "output_type": "stream",
     "text": [
      "\n",
      "input str, x match :\n",
      "478.75 897.5 1219149371.986 52 \n",
      "  897.5\n",
      "\n",
      "input str, x match :\n",
      "'.25'.125'.013'58 \n",
      " '.125\n",
      "\n",
      "input str, x match :\n",
      "\"1.25\"-4.125\".014\"-52 \n",
      " \"-4.125\n",
      "\n",
      "input str, x match :\n",
      " 1-3.625-.001-2 \n",
      " -3.625\n",
      "\n",
      "input str, x match :\n",
      "-1.625 4.625-.012-4 \n",
      "  4.625\n",
      "\n",
      "input str, x match :\n",
      "-.75 1.125-.001 0 \n",
      "  1.125\n",
      "\n",
      "input str, x match :\n",
      "-.875 1.25 0-2 \n",
      "  1.25\n",
      "\n",
      "input str, x match :\n",
      "-.625 .75 .001 0 \n",
      "  .75\n",
      "\n",
      "input str, x match :\n",
      "-3.25 3.375 .012-6 \n",
      "  3.375\n",
      "\n",
      "input str, x match :\n",
      " 2-2.625 .001 8 \n",
      " -2.625\n"
     ]
    }
   ],
   "source": [
    "for i in range(10):\n",
    "    number = r\"([+-]\\s*)?([0-9]*[.])?[0-9]+\"\n",
    "    value = r\"(\\\"|'|!)?\\s*{}\".format(number)\n",
    "    rule = r\"(?P<x>{0})(?P<y>{0}).*\".format(value)\n",
    "    match = re.match(rule, str_list[i])\n",
    "\n",
    "    match.group('x')\n",
    "    print(\"\\ninput str, x match :\")\n",
    "    print(str_list[i],\"\\n\",match.group('y'))"
   ]
  },
  {
   "cell_type": "code",
   "execution_count": 77,
   "metadata": {},
   "outputs": [],
   "source": [
    "import re"
   ]
  },
  {
   "cell_type": "code",
   "execution_count": 73,
   "metadata": {
    "scrolled": true
   },
   "outputs": [
    {
     "data": {
      "image/png": "[encoded data removed]",
      "text/plain": [
       "<Figure size 432x288 with 1 Axes>"
      ]
     },
     "metadata": {},
     "output_type": "display_data"
    }
   ],
   "source": [
    "plot_task(target)"
   ]
  },
  {
   "cell_type": "code",
   "execution_count": 75,
   "metadata": {
    "scrolled": true
   },
   "outputs": [
    {
     "data": {
      "text/plain": [
       "['478.75 897.5 1219149371.986 52',\n",
       " \"'.25'.125'.013'58\",\n",
       " '\"1.25\"-4.125\".014\"-52',\n",
       " ' 1-3.625-.001-2',\n",
       " '-1.625 4.625-.012-4',\n",
       " '-.75 1.125-.001 0',\n",
       " '-.875 1.25 0-2',\n",
       " '-.625 .75 .001 0',\n",
       " '-3.25 3.375 .012-6',\n",
       " ' 2-2.625 .001 8',\n",
       " ' 1.5-1.625-.014 4',\n",
       " '-1.25-2.5 .027 2',\n",
       " ' 1.75 3.5-.013-4',\n",
       " '-2.625 6.875 .013-2',\n",
       " ' 2.75-4-.027 0',\n",
       " ' .75 1.375 .027 0',\n",
       " '-1.25-8.5 0 0',\n",
       " '-.5 1.25-.026 0',\n",
       " '-.125 .75-.001 0',\n",
       " '-.125 .875 0 0',\n",
       " ' 0 .875 .001 0',\n",
       " ' .375 .625-.001 0',\n",
       " ' .25 1 0-2',\n",
       " ' .625 .75 .001 2',\n",
       " ' .875-.375-.001 0',\n",
       " ' .75-.875 0 0',\n",
       " ' 0-1 .001 2',\n",
       " ' .25-.875-.001-2',\n",
       " '-.125-1.125 0 2',\n",
       " '-.25-.75 .001-2',\n",
       " '-1 1.125-.001 0',\n",
       " '-.75 .5 0 0',\n",
       " '-.75 .5 .001 0',\n",
       " '-.375 1.25-.001-2',\n",
       " '-2.125 3.625 .014 0',\n",
       " ' 2.375 1.25-.001 0',\n",
       " ' 2-4.125-.012 4',\n",
       " ' .75-1.25 .012 0',\n",
       " '-.375-1.25-.012 0',\n",
       " ' .25-.75-.001-2',\n",
       " '-.625-.375 0 0',\n",
       " '-.5-.25 .001 0',\n",
       " '-.5 1-.001 0',\n",
       " '-.625 .375 0 0',\n",
       " '-.25 1.125 .001-2',\n",
       " '-1.125 1.5-.001 0',\n",
       " ' .125 .875 0-2',\n",
       " ' .5 .625 .001-4',\n",
       " ' .5 .25-.001 0',\n",
       " ' 1.125-1.25 .014 24',\n",
       " ' 1.625-3.375-.001-10',\n",
       " '-.125-2.25 .001-4',\n",
       " '-.75 .125 0-2',\n",
       " '-.875 2.5-.014 0',\n",
       " '-.25 .875 0-2',\n",
       " '-1 .875 .001 0',\n",
       " '-1 1.25-.001-4',\n",
       " ' .75 .625 0-12',\n",
       " ' .625 .25 .001-76',\n",
       " ' .625-1.125-.001 94',\n",
       " ' 1-1.75 0 108',\n",
       " ' .625-1.75 .014-98',\n",
       " '-.125 0-.014-10',\n",
       " '-.375-1.625 .014 2',\n",
       " '-1 2.625-.014-2',\n",
       " '-.25 .625 .001 0',\n",
       " '-1.625 1.25-.001-2',\n",
       " '-.875 1 0 0',\n",
       " '-2.625 3.625 .014-12',\n",
       " ' 3.875-2.25-.014 10',\n",
       " ' 1 .25 .001 8',\n",
       " ' .875-1.5-.001 8',\n",
       " ' .75-1.375 0-10',\n",
       " ' 1.625-2 .014 2',\n",
       " ' 1.125-4.125 0-4',\n",
       " '-1.375-1.5-.001 2',\n",
       " '-1.5 3.875-.012-2',\n",
       " '-1 1-.001 0',\n",
       " '-.375 1.125 0 0',\n",
       " '-1 1.25 .001-2',\n",
       " '-1 1-.001 0',\n",
       " '-2.75 2.75 .027-2',\n",
       " ' 6.25-5.875 .04 10',\n",
       " '-.5 2.875-.053-8',\n",
       " ' 1.25 .75-.001 2',\n",
       " ' .75-2.25 .001 2',\n",
       " '-.75-1.375-.014-2',\n",
       " ' .875-3.375 .014 2',\n",
       " '-2.375 3.5-.014-2',\n",
       " '-.5 .875 .001 0',\n",
       " '-1.125 1.25-.001-2',\n",
       " '-1.25 1.5 0 2',\n",
       " '-.125 1.25 .001-4',\n",
       " ' 0 1.75-.001-12',\n",
       " ' 0 1.5 0-64',\n",
       " ' .375-.375 .014 174',\n",
       " ' 3.125-6-.014-88',\n",
       " ' 1.5-2.875 .014-4',\n",
       " ' 1-5.875 0 0',\n",
       " '-1.375 .375-.001-4',\n",
       " '-1.25 4.75-.012-4']"
      ]
     },
     "execution_count": 75,
     "metadata": {},
     "output_type": "execute_result"
    }
   ],
   "source": [
    "str_list"
   ]
  },
  {
   "cell_type": "code",
   "execution_count": 74,
   "metadata": {
    "scrolled": true
   },
   "outputs": [
    {
     "data": {
      "text/plain": [
       "array([[478.75 , 897.5  ],\n",
       "       [479.   , 897.625],\n",
       "       [480.5  , 893.625],\n",
       "       [483.   , 886.   ],\n",
       "       [483.875, 883.   ],\n",
       "       [484.   , 881.125],\n",
       "       [483.25 , 880.5  ],\n",
       "       [481.875, 880.625],\n",
       "       [477.25 , 884.125],\n",
       "       [474.625, 885.   ],\n",
       "       [473.5  , 884.25 ],\n",
       "       [471.125, 881.   ],\n",
       "       [470.5  , 881.25 ],\n",
       "       [467.25 , 888.375],\n",
       "       [466.75 , 891.5  ],\n",
       "       [467.   , 896.   ],\n",
       "       [466.   , 892.   ],\n",
       "       [464.5  , 889.25 ],\n",
       "       [462.875, 887.25 ],\n",
       "       [461.125, 886.125],\n",
       "       [459.375, 885.875],\n",
       "       [458.   , 886.25 ],\n",
       "       [456.875, 887.625],\n",
       "       [456.375, 889.75 ],\n",
       "       [456.75 , 891.5  ],\n",
       "       [457.875, 892.375],\n",
       "       [459.   , 892.25 ],\n",
       "       [460.375, 891.25 ],\n",
       "       [461.625, 889.125],\n",
       "       [462.625, 886.25 ],\n",
       "       [462.625, 884.5  ],\n",
       "       [461.875, 883.25 ],\n",
       "       [460.375, 882.5  ],\n",
       "       [458.5  , 883.   ],\n",
       "       [454.5  , 887.125],\n",
       "       [452.875, 892.5  ],\n",
       "       [453.25 , 893.75 ],\n",
       "       [454.375, 893.75 ],\n",
       "       [455.125, 892.5  ],\n",
       "       [456.125, 890.5  ],\n",
       "       [456.5  , 888.125],\n",
       "       [456.375, 885.5  ],\n",
       "       [455.75 , 883.875],\n",
       "       [454.5  , 882.625],\n",
       "       [453.   , 882.5  ],\n",
       "       [450.375, 883.875],\n",
       "       [447.875, 886.125],\n",
       "       [445.875, 889.   ],\n",
       "       [444.375, 892.125],\n",
       "       [444.   , 894.   ],\n",
       "       [445.25 , 892.5  ],\n",
       "       [446.375, 888.75 ],\n",
       "       [446.75 , 885.125],\n",
       "       [446.25 , 884.   ],\n",
       "       [445.5  , 883.75 ],\n",
       "       [443.75 , 884.375],\n",
       "       [441.   , 886.25 ],\n",
       "       [439.   , 888.75 ],\n",
       "       [437.625, 891.5  ],\n",
       "       [436.875, 893.125],\n",
       "       [437.125, 893.   ],\n",
       "       [438.   , 891.125],\n",
       "       [438.75 , 889.25 ],\n",
       "       [439.125, 885.75 ],\n",
       "       [438.5  , 884.875],\n",
       "       [437.625, 884.625],\n",
       "       [435.125, 885.625],\n",
       "       [431.75 , 887.625],\n",
       "       [425.75 , 893.25 ],\n",
       "       [423.625, 896.625],\n",
       "       [422.5  , 900.25 ],\n",
       "       [422.25 , 902.375],\n",
       "       [422.75 , 903.125],\n",
       "       [424.875, 901.875],\n",
       "       [428.125, 896.5  ],\n",
       "       [430.   , 889.625],\n",
       "       [430.375, 886.625],\n",
       "       [429.75 , 884.625],\n",
       "       [428.75 , 883.75 ],\n",
       "       [426.75 , 884.125],\n",
       "       [423.75 , 885.5  ],\n",
       "       [418.   , 889.625],\n",
       "       [418.5  , 887.875],\n",
       "       [418.5  , 889.   ],\n",
       "       [419.75 , 890.875],\n",
       "       [421.75 , 890.5  ],\n",
       "       [423.   , 888.75 ],\n",
       "       [425.125, 883.625],\n",
       "       [424.875, 882.   ],\n",
       "       [424.125, 881.25 ],\n",
       "       [422.25 , 881.75 ],\n",
       "       [419.125, 883.75 ],\n",
       "       [415.875, 887.   ],\n",
       "       [412.625, 892.   ],\n",
       "       [409.375, 898.5  ],\n",
       "       [406.5  , 904.625],\n",
       "       [406.75 , 904.75 ],\n",
       "       [408.5  , 902.   ],\n",
       "       [411.25 , 893.375],\n",
       "       [412.625, 885.125],\n",
       "       [412.75 , 881.625]])"
      ]
     },
     "execution_count": 74,
     "metadata": {},
     "output_type": "execute_result"
    }
   ],
   "source": [
    "target"
   ]
  },
  {
   "cell_type": "code",
   "execution_count": 66,
   "metadata": {},
   "outputs": [
    {
     "name": "stdout",
     "output_type": "stream",
     "text": [
      "[[4.78750000e+02 8.97500000e+02 1.21914937e+09 5.20000000e+01]\n",
      " [4.79750000e+02 8.93875000e+02 1.21914937e+09 5.00000000e+01]\n",
      " [4.78875000e+02 8.95125000e+02 1.21914937e+09 4.80000000e+01]\n",
      " [4.80875000e+02 8.92500000e+02 1.21914937e+09 5.60000000e+01]\n",
      " [4.82625000e+02 8.96000000e+02 1.21914937e+09 5.20000000e+01]\n",
      " [4.83375000e+02 8.97375000e+02 1.21914937e+09 5.20000000e+01]\n",
      " [4.83250000e+02 8.98125000e+02 1.21914937e+09 5.20000000e+01]\n",
      " [4.83625000e+02 8.98750000e+02 1.21914937e+09 5.20000000e+01]\n",
      " [4.84500000e+02 8.98375000e+02 1.21914937e+09 5.20000000e+01]\n",
      " [4.84750000e+02 8.97500000e+02 1.21914937e+09 5.00000000e+01]\n",
      " [4.83750000e+02 8.98625000e+02 1.21914937e+09 5.00000000e+01]\n",
      " [4.83375000e+02 8.99875000e+02 1.21914937e+09 4.80000000e+01]\n",
      " [4.85375000e+02 8.95750000e+02 1.21914937e+09 5.20000000e+01]\n",
      " [4.85625000e+02 8.95000000e+02 1.21914937e+09 5.00000000e+01]\n",
      " [4.85125000e+02 8.96000000e+02 1.21914937e+09 5.00000000e+01]\n",
      " [4.84000000e+02 8.97500000e+02 1.21914937e+09 5.00000000e+01]\n",
      " [4.84500000e+02 8.97750000e+02 1.21914937e+09 5.00000000e+01]\n",
      " [4.84375000e+02 8.95500000e+02 1.21914937e+09 4.60000000e+01]\n",
      " [4.84125000e+02 8.96375000e+02 1.21914937e+09 4.40000000e+01]\n",
      " [4.84875000e+02 8.97000000e+02 1.21914937e+09 3.20000000e+01]\n",
      " [4.85875000e+02 8.95250000e+02 1.21914937e+09 1.40000000e+02]\n",
      " [4.85500000e+02 8.93625000e+02 1.21914937e+09 1.42000000e+02]\n",
      " [4.83875000e+02 8.94875000e+02 1.21914937e+09 1.40000000e+02]\n",
      " [4.87750000e+02 8.92625000e+02 1.21914937e+09 1.50000000e+02]\n",
      " [4.88500000e+02 8.91250000e+02 1.21914937e+09 1.40000000e+02]\n",
      " [4.87125000e+02 8.89750000e+02 1.21914937e+09 1.42000000e+02]\n",
      " [4.86750000e+02 8.90875000e+02 1.21914937e+09 1.42000000e+02]\n",
      " [4.84000000e+02 8.93625000e+02 1.21914937e+09 1.40000000e+02]\n",
      " [4.85250000e+02 8.94375000e+02 1.21914937e+09 1.42000000e+02]\n",
      " [4.86125000e+02 8.91000000e+02 1.21914937e+09 1.44000000e+02]\n",
      " [4.85000000e+02 8.92250000e+02 1.21914937e+09 1.42000000e+02]\n",
      " [4.85000000e+02 8.94000000e+02 1.21914937e+09 1.30000000e+02]\n",
      " [4.88125000e+02 8.88000000e+02 1.21914937e+09 4.20000000e+01]\n",
      " [4.86750000e+02 8.88375000e+02 1.21914937e+09 3.80000000e+01]]\n"
     ]
    }
   ],
   "source": [
    "print(np_array)"
   ]
  },
  {
   "cell_type": "code",
   "execution_count": 54,
   "metadata": {},
   "outputs": [
    {
     "name": "stdout",
     "output_type": "stream",
     "text": [
      "[[ 4.78750000e+02  8.97500000e+02  1.21914937e+09  5.20000000e+01]\n",
      " [ 1.00000000e+00 -3.62500000e+00 -1.00000000e-03 -2.00000000e+00]\n",
      " [-8.75000000e-01  1.25000000e+00  0.00000000e+00 -2.00000000e+00]\n",
      " [ 2.00000000e+00 -2.62500000e+00  1.00000000e-03  8.00000000e+00]\n",
      " [ 1.75000000e+00  3.50000000e+00 -1.30000000e-02 -4.00000000e+00]\n",
      " [ 7.50000000e-01  1.37500000e+00  2.70000000e-02  0.00000000e+00]\n",
      " [-1.25000000e-01  7.50000000e-01 -1.00000000e-03  0.00000000e+00]\n",
      " [ 3.75000000e-01  6.25000000e-01 -1.00000000e-03  0.00000000e+00]\n",
      " [ 8.75000000e-01 -3.75000000e-01 -1.00000000e-03  0.00000000e+00]\n",
      " [ 2.50000000e-01 -8.75000000e-01 -1.00000000e-03 -2.00000000e+00]\n",
      " [-1.00000000e+00  1.12500000e+00 -1.00000000e-03  0.00000000e+00]\n",
      " [-3.75000000e-01  1.25000000e+00 -1.00000000e-03 -2.00000000e+00]\n",
      " [ 2.00000000e+00 -4.12500000e+00 -1.20000000e-02  4.00000000e+00]\n",
      " [ 2.50000000e-01 -7.50000000e-01 -1.00000000e-03 -2.00000000e+00]\n",
      " [-5.00000000e-01  1.00000000e+00 -1.00000000e-03  0.00000000e+00]\n",
      " [-1.12500000e+00  1.50000000e+00 -1.00000000e-03  0.00000000e+00]\n",
      " [ 5.00000000e-01  2.50000000e-01 -1.00000000e-03  0.00000000e+00]\n",
      " [-1.25000000e-01 -2.25000000e+00  1.00000000e-03 -4.00000000e+00]\n",
      " [-2.50000000e-01  8.75000000e-01  0.00000000e+00 -2.00000000e+00]\n",
      " [ 7.50000000e-01  6.25000000e-01  0.00000000e+00 -1.20000000e+01]\n",
      " [ 1.00000000e+00 -1.75000000e+00  0.00000000e+00  1.08000000e+02]\n",
      " [-3.75000000e-01 -1.62500000e+00  1.40000000e-02  2.00000000e+00]\n",
      " [-1.62500000e+00  1.25000000e+00 -1.00000000e-03 -2.00000000e+00]\n",
      " [ 3.87500000e+00 -2.25000000e+00 -1.40000000e-02  1.00000000e+01]\n",
      " [ 7.50000000e-01 -1.37500000e+00  0.00000000e+00 -1.00000000e+01]\n",
      " [-1.37500000e+00 -1.50000000e+00 -1.00000000e-03  2.00000000e+00]\n",
      " [-3.75000000e-01  1.12500000e+00  0.00000000e+00  0.00000000e+00]\n",
      " [-2.75000000e+00  2.75000000e+00  2.70000000e-02 -2.00000000e+00]\n",
      " [ 1.25000000e+00  7.50000000e-01 -1.00000000e-03  2.00000000e+00]\n",
      " [ 8.75000000e-01 -3.37500000e+00  1.40000000e-02  2.00000000e+00]\n",
      " [-1.12500000e+00  1.25000000e+00 -1.00000000e-03 -2.00000000e+00]\n",
      " [ 0.00000000e+00  1.75000000e+00 -1.00000000e-03 -1.20000000e+01]\n",
      " [ 3.12500000e+00 -6.00000000e+00 -1.40000000e-02 -8.80000000e+01]\n",
      " [-1.37500000e+00  3.75000000e-01 -1.00000000e-03 -4.00000000e+00]]\n"
     ]
    }
   ],
   "source": [
    "print(x_y)"
   ]
  },
  {
   "cell_type": "code",
   "execution_count": 43,
   "metadata": {},
   "outputs": [
    {
     "data": {
      "text/plain": [
       "array([[ 4.79750000e+02,  8.93875000e+02,  1.21914937e+09,\n",
       "         5.00000000e+01],\n",
       "       [ 4.77875000e+02,  8.98750000e+02,  1.21914937e+09,\n",
       "         5.00000000e+01],\n",
       "       [ 4.80750000e+02,  8.94875000e+02,  1.21914937e+09,\n",
       "         6.00000000e+01],\n",
       "       [ 4.80500000e+02,  9.01000000e+02,  1.21914937e+09,\n",
       "         4.80000000e+01],\n",
       "       [ 4.79500000e+02,  8.98875000e+02,  1.21914937e+09,\n",
       "         5.20000000e+01],\n",
       "       [ 4.78625000e+02,  8.98250000e+02,  1.21914937e+09,\n",
       "         5.20000000e+01],\n",
       "       [ 4.79125000e+02,  8.98125000e+02,  1.21914937e+09,\n",
       "         5.20000000e+01],\n",
       "       [ 4.79625000e+02,  8.97125000e+02,  1.21914937e+09,\n",
       "         5.20000000e+01],\n",
       "       [ 4.79000000e+02,  8.96625000e+02,  1.21914937e+09,\n",
       "         5.00000000e+01],\n",
       "       [ 4.77750000e+02,  8.98625000e+02,  1.21914937e+09,\n",
       "         5.20000000e+01],\n",
       "       [ 4.78375000e+02,  8.98750000e+02,  1.21914937e+09,\n",
       "         5.00000000e+01],\n",
       "       [ 4.80750000e+02,  8.93375000e+02,  1.21914937e+09,\n",
       "         5.60000000e+01],\n",
       "       [ 4.79000000e+02,  8.96750000e+02,  1.21914937e+09,\n",
       "         5.00000000e+01],\n",
       "       [ 4.78250000e+02,  8.98500000e+02,  1.21914937e+09,\n",
       "         5.20000000e+01],\n",
       "       [ 4.77625000e+02,  8.99000000e+02,  1.21914937e+09,\n",
       "         5.20000000e+01],\n",
       "       [ 4.79250000e+02,  8.97750000e+02,  1.21914937e+09,\n",
       "         5.20000000e+01],\n",
       "       [ 4.78625000e+02,  8.95250000e+02,  1.21914937e+09,\n",
       "         4.80000000e+01],\n",
       "       [ 4.78500000e+02,  8.98375000e+02,  1.21914937e+09,\n",
       "         5.00000000e+01],\n",
       "       [ 4.79500000e+02,  8.98125000e+02,  1.21914937e+09,\n",
       "         4.00000000e+01],\n",
       "       [ 4.79750000e+02,  8.95750000e+02,  1.21914937e+09,\n",
       "         1.60000000e+02],\n",
       "       [ 4.78375000e+02,  8.95875000e+02,  1.21914937e+09,\n",
       "         5.40000000e+01],\n",
       "       [ 4.77125000e+02,  8.98750000e+02,  1.21914937e+09,\n",
       "         5.00000000e+01],\n",
       "       [ 4.82625000e+02,  8.95250000e+02,  1.21914937e+09,\n",
       "         6.20000000e+01],\n",
       "       [ 4.79500000e+02,  8.96125000e+02,  1.21914937e+09,\n",
       "         4.20000000e+01],\n",
       "       [ 4.77375000e+02,  8.96000000e+02,  1.21914937e+09,\n",
       "         5.40000000e+01],\n",
       "       [ 4.78375000e+02,  8.98625000e+02,  1.21914937e+09,\n",
       "         5.20000000e+01],\n",
       "       [ 4.76000000e+02,  9.00250000e+02,  1.21914937e+09,\n",
       "         5.00000000e+01],\n",
       "       [ 4.80000000e+02,  8.98250000e+02,  1.21914937e+09,\n",
       "         5.40000000e+01],\n",
       "       [ 4.79625000e+02,  8.94125000e+02,  1.21914937e+09,\n",
       "         5.40000000e+01],\n",
       "       [ 4.77625000e+02,  8.98750000e+02,  1.21914937e+09,\n",
       "         5.00000000e+01],\n",
       "       [ 4.78750000e+02,  8.99250000e+02,  1.21914937e+09,\n",
       "         4.00000000e+01],\n",
       "       [ 4.81875000e+02,  8.91500000e+02,  1.21914937e+09,\n",
       "        -3.60000000e+01],\n",
       "       [ 4.77375000e+02,  8.97875000e+02,  1.21914937e+09,\n",
       "         4.80000000e+01]])"
      ]
     },
     "execution_count": 43,
     "metadata": {},
     "output_type": "execute_result"
    }
   ],
   "source": [
    "x_y[1:]+x_y[0]"
   ]
  },
  {
   "cell_type": "code",
   "execution_count": 37,
   "metadata": {},
   "outputs": [
    {
     "data": {
      "text/plain": [
       "['478.75 897.5 1219149371.986 52',\n",
       " ' 1-3.625-.001-2',\n",
       " '-.875 1.25 0-2',\n",
       " ' 2-2.625 .001 8',\n",
       " ' 1.75 3.5-.013-4',\n",
       " ' .75 1.375 .027 0',\n",
       " '-.125 .75-.001 0',\n",
       " ' .375 .625-.001 0',\n",
       " ' .875-.375-.001 0',\n",
       " ' .25-.875-.001-2',\n",
       " '-1 1.125-.001 0',\n",
       " '-.375 1.25-.001-2',\n",
       " ' 2-4.125-.012 4',\n",
       " ' .25-.75-.001-2',\n",
       " '-.5 1-.001 0',\n",
       " '-1.125 1.5-.001 0',\n",
       " ' .5 .25-.001 0',\n",
       " '-.125-2.25 .001-4',\n",
       " '-.25 .875 0-2',\n",
       " ' .75 .625 0-12',\n",
       " ' 1-1.75 0 108',\n",
       " '-.375-1.625 .014 2',\n",
       " '-1.625 1.25-.001-2',\n",
       " ' 3.875-2.25-.014 10',\n",
       " ' .75-1.375 0-10',\n",
       " '-1.375-1.5-.001 2',\n",
       " '-.375 1.125 0 0',\n",
       " '-2.75 2.75 .027-2',\n",
       " ' 1.25 .75-.001 2',\n",
       " ' .875-3.375 .014 2',\n",
       " '-1.125 1.25-.001-2',\n",
       " ' 0 1.75-.001-12',\n",
       " ' 3.125-6-.014-88',\n",
       " '-1.375 .375-.001-4']"
      ]
     },
     "execution_count": 37,
     "metadata": {},
     "output_type": "execute_result"
    }
   ],
   "source": [
    "str_x_y"
   ]
  },
  {
   "cell_type": "code",
   "execution_count": 34,
   "metadata": {},
   "outputs": [
    {
     "data": {
      "text/plain": [
       "['478.75 897.5 1219149371.986 52',\n",
       " \"'.25'.125'.013'58\",\n",
       " '\"1.25\"-4.125\".014\"-52',\n",
       " ' 1-3.625-.001-2',\n",
       " '-1.625 4.625-.012-4',\n",
       " '-.75 1.125-.001 0',\n",
       " '-.875 1.25 0-2',\n",
       " '-.625 .75 .001 0',\n",
       " '-3.25 3.375 .012-6',\n",
       " ' 2-2.625 .001 8',\n",
       " ' 1.5-1.625-.014 4',\n",
       " '-1.25-2.5 .027 2',\n",
       " ' 1.75 3.5-.013-4',\n",
       " '-2.625 6.875 .013-2',\n",
       " ' 2.75-4-.027 0',\n",
       " ' .75 1.375 .027 0',\n",
       " '-1.25-8.5 0 0',\n",
       " '-.5 1.25-.026 0',\n",
       " '-.125 .75-.001 0',\n",
       " '-.125 .875 0 0',\n",
       " ' 0 .875 .001 0',\n",
       " ' .375 .625-.001 0',\n",
       " ' .25 1 0-2',\n",
       " ' .625 .75 .001 2',\n",
       " ' .875-.375-.001 0',\n",
       " ' .75-.875 0 0',\n",
       " ' 0-1 .001 2',\n",
       " ' .25-.875-.001-2',\n",
       " '-.125-1.125 0 2',\n",
       " '-.25-.75 .001-2',\n",
       " '-1 1.125-.001 0',\n",
       " '-.75 .5 0 0',\n",
       " '-.75 .5 .001 0',\n",
       " '-.375 1.25-.001-2',\n",
       " '-2.125 3.625 .014 0',\n",
       " ' 2.375 1.25-.001 0',\n",
       " ' 2-4.125-.012 4',\n",
       " ' .75-1.25 .012 0',\n",
       " '-.375-1.25-.012 0',\n",
       " ' .25-.75-.001-2',\n",
       " '-.625-.375 0 0',\n",
       " '-.5-.25 .001 0',\n",
       " '-.5 1-.001 0',\n",
       " '-.625 .375 0 0',\n",
       " '-.25 1.125 .001-2',\n",
       " '-1.125 1.5-.001 0',\n",
       " ' .125 .875 0-2',\n",
       " ' .5 .625 .001-4',\n",
       " ' .5 .25-.001 0',\n",
       " ' 1.125-1.25 .014 24',\n",
       " ' 1.625-3.375-.001-10',\n",
       " '-.125-2.25 .001-4',\n",
       " '-.75 .125 0-2',\n",
       " '-.875 2.5-.014 0',\n",
       " '-.25 .875 0-2',\n",
       " '-1 .875 .001 0',\n",
       " '-1 1.25-.001-4',\n",
       " ' .75 .625 0-12',\n",
       " ' .625 .25 .001-76',\n",
       " ' .625-1.125-.001 94',\n",
       " ' 1-1.75 0 108',\n",
       " ' .625-1.75 .014-98',\n",
       " '-.125 0-.014-10',\n",
       " '-.375-1.625 .014 2',\n",
       " '-1 2.625-.014-2',\n",
       " '-.25 .625 .001 0',\n",
       " '-1.625 1.25-.001-2',\n",
       " '-.875 1 0 0',\n",
       " '-2.625 3.625 .014-12',\n",
       " ' 3.875-2.25-.014 10',\n",
       " ' 1 .25 .001 8',\n",
       " ' .875-1.5-.001 8',\n",
       " ' .75-1.375 0-10',\n",
       " ' 1.625-2 .014 2',\n",
       " ' 1.125-4.125 0-4',\n",
       " '-1.375-1.5-.001 2',\n",
       " '-1.5 3.875-.012-2',\n",
       " '-1 1-.001 0',\n",
       " '-.375 1.125 0 0',\n",
       " '-1 1.25 .001-2',\n",
       " '-1 1-.001 0',\n",
       " '-2.75 2.75 .027-2',\n",
       " ' 6.25-5.875 .04 10',\n",
       " '-.5 2.875-.053-8',\n",
       " ' 1.25 .75-.001 2',\n",
       " ' .75-2.25 .001 2',\n",
       " '-.75-1.375-.014-2',\n",
       " ' .875-3.375 .014 2',\n",
       " '-2.375 3.5-.014-2',\n",
       " '-.5 .875 .001 0',\n",
       " '-1.125 1.25-.001-2',\n",
       " '-1.25 1.5 0 2',\n",
       " '-.125 1.25 .001-4',\n",
       " ' 0 1.75-.001-12',\n",
       " ' 0 1.5 0-64',\n",
       " ' .375-.375 .014 174',\n",
       " ' 3.125-6-.014-88',\n",
       " ' 1.5-2.875 .014-4',\n",
       " ' 1-5.875 0 0',\n",
       " '-1.375 .375-.001-4',\n",
       " '-1.25 4.75-.012-4']"
      ]
     },
     "execution_count": 34,
     "metadata": {},
     "output_type": "execute_result"
    }
   ],
   "source": [
    "str_list"
   ]
  },
  {
   "cell_type": "code",
   "execution_count": 17,
   "metadata": {},
   "outputs": [
    {
     "data": {
      "image/png": "[encoded data removed]",
      "text/plain": [
       "<Figure size 432x288 with 1 Axes>"
      ]
     },
     "metadata": {},
     "output_type": "display_data"
    }
   ],
   "source": [
    "for i in range(10):\n",
    "    plot_task(drawings[1][i])"
   ]
  },
  {
   "cell_type": "code",
   "execution_count": 14,
   "metadata": {},
   "outputs": [
    {
     "data": {
      "image/png": "[encoded data removed]",
      "text/plain": [
       "<Figure size 432x288 with 1 Axes>"
      ]
     },
     "metadata": {},
     "output_type": "display_data"
    }
   ],
   "source": [
    "plot_task(drawings[0][1])"
   ]
  },
  {
   "cell_type": "code",
   "execution_count": 10,
   "metadata": {},
   "outputs": [
    {
     "data": {
      "text/plain": [
       "numpy.ndarray"
      ]
     },
     "execution_count": 10,
     "metadata": {},
     "output_type": "execute_result"
    }
   ],
   "source": [
    "type(drawings[0][0])"
   ]
  },
  {
   "cell_type": "code",
   "execution_count": 10,
   "metadata": {},
   "outputs": [
    {
     "data": {
      "text/plain": [
       "2"
      ]
     },
     "execution_count": 10,
     "metadata": {},
     "output_type": "execute_result"
    }
   ],
   "source": [
    "len(words[0][1\n",
    "            ]\n",
    "   )"
   ]
  },
  {
   "cell_type": "code",
   "execution_count": 4,
   "metadata": {},
   "outputs": [
    {
     "name": "stdout",
     "output_type": "stream",
     "text": [
      "loading scaled and padded data\n",
      "train_set.shape (114564, 288, 2)\n",
      "test_set.shape (57562, 288, 2)\n"
     ]
    }
   ],
   "source": [
    "if False:    \n",
    "    if False:        \n",
    "        words, lines = _import_set(iamondo_path, \"{}.set\".format(set_number), max_files=None)\n",
    "\n",
    "        data=np.asarray([stroke for word in words for stroke in  word[1]])\n",
    "    else:\n",
    "        print(\"loading raw data\")\n",
    "        data=np.load(join(\"data\",\"0_1.set.npy\"))\n",
    "        print(\"raw data shape\",data.shape)\n",
    "    print(\"scaling and padding data at\",max_len)\n",
    "    tmp=[]\n",
    "    for stroke in data:\n",
    "        stroke=scale(stroke,axis=0)\n",
    "        if len(stroke) > max_len:\n",
    "            stroke=stroke[:max_len]\n",
    "        else:\n",
    "            stroke=np.concatenate((stroke,np.zeros(shape=(max_len-len(stroke),stroke.shape[1]))))#zero-padding\n",
    "        tmp.append(stroke)\n",
    "    data=np.asarray(tmp)\n",
    "    print(\"data.shape\",data.shape)\n",
    "    np.save(\"data/padded_0_1.set.npy\",data)\n",
    "else:\n",
    "    print(\"loading scaled and padded data\")\n",
    "    train_set=np.load(join(\"data\",\"padded_0_1.set.npy\"))\n",
    "    test_set=np.load(join(\"data\",\"padded_3.set.npy\"))\n",
    "    #reverse x and y column to match PaHaW\n",
    "    train_set=train_set[:,:,::-1]\n",
    "    test_set=test_set[:,:,::-1]\n",
    "    print(\"train_set.shape\",train_set.shape)\n",
    "    print(\"test_set.shape\",test_set.shape)"
   ]
  },
  {
   "cell_type": "markdown",
   "metadata": {},
   "source": [
    "#  Model\n",
    "\n",
    "https://pytorch.org/docs/stable/nn.html#convtranspose1d"
   ]
  },
  {
   "cell_type": "code",
   "execution_count": 6,
   "metadata": {},
   "outputs": [],
   "source": [
    "import torch\n",
    "\n",
    "class CNNAutoencoder(torch.nn.Module):\n",
    "    def __init__(self,input_size,hidden_size,conv_kernel,pool_kernel ,padding,\n",
    "                 stride=1,dilation=1, dropout=0.0):\n",
    "        super(CNNAutoencoder, self).__init__()\n",
    "        self.num_layers=len(hidden_size) \n",
    "        \n",
    "        layers=[]\n",
    "        for i, (h,c,p,pad) in enumerate(list(zip(hidden_size,conv_kernel,pool_kernel,padding))):\n",
    "            s = input_size if i ==0 else hidden_size[i-1]\n",
    "            layers+=[\n",
    "                torch.nn.Conv1d(s,h,c,stride=p,padding=pad,dilation=1),\n",
    "                torch.nn.ReLU(),\n",
    "                torch.nn.Dropout(dropout)\n",
    "            ]\n",
    "        self.encoder=torch.nn.Sequential(*layers)\n",
    "        \n",
    "        layers=[]\n",
    "        for i, (h,c,p,pad) in enumerate(list(zip(hidden_size,conv_kernel,pool_kernel,padding))[::-1]):\n",
    "            if i ==self.num_layers-1:                \n",
    "                s= input_size\n",
    "                layers+=[\n",
    "                    torch.nn.ConvTranspose1d(h,s,c,stride=p,padding=pad,dilation=1)\n",
    "                ]\n",
    "            else :\n",
    "                s = hidden_size[::-1][i+1]      \n",
    "                layers+=[\n",
    "                    torch.nn.ConvTranspose1d(h,s,c,stride=p,padding=pad,dilation=1),\n",
    "                    torch.nn.ReLU(),\n",
    "                    torch.nn.Dropout(dropout)\n",
    "                ]        \n",
    "        self.decoder=torch.nn.Sequential(*layers)\n",
    "        \n",
    "    def forward(self,subject):\n",
    "        code=self.encoder(subject)\n",
    "        decode=self.decoder(code)        \n",
    "        return decode#self.sigmoid(d_c1)\n"
   ]
  },
  {
   "cell_type": "markdown",
   "metadata": {},
   "source": [
    "# Training def"
   ]
  },
  {
   "cell_type": "code",
   "execution_count": 7,
   "metadata": {},
   "outputs": [],
   "source": [
    "def step(input, target, model, optimizer, loss_fn, batch_size,validation = False, device=\"cuda\"):\n",
    "    if not validation:\n",
    "        # Zero gradients\n",
    "        optimizer.zero_grad()\n",
    "\n",
    "    # Set device options\n",
    "    input=input.to(device)\n",
    "    target=target.to(device)\n",
    "    #forward pass\n",
    "    output=model(input)\n",
    "\n",
    "    # Compute loss\n",
    "    loss = loss_fn(output, target)\n",
    "    if not validation:\n",
    "        # Perform backpropagation\n",
    "        loss.backward()\n",
    "        # Adjust model weights\n",
    "        optimizer.step()\n",
    "    return loss.item(), output.squeeze().cpu().detach().numpy()"
   ]
  },
  {
   "cell_type": "markdown",
   "metadata": {},
   "source": [
    "#  Hyperparameters"
   ]
  },
  {
   "cell_type": "code",
   "execution_count": 114,
   "metadata": {},
   "outputs": [
    {
     "data": {
      "text/plain": [
       "18.0"
      ]
     },
     "execution_count": 114,
     "metadata": {},
     "output_type": "execute_result"
    }
   ],
   "source": [
    "288/16"
   ]
  },
  {
   "cell_type": "code",
   "execution_count": 115,
   "metadata": {},
   "outputs": [
    {
     "data": {
      "text/plain": [
       "2.25"
      ]
     },
     "execution_count": 115,
     "metadata": {},
     "output_type": "execute_result"
    }
   ],
   "source": [
    "18/8"
   ]
  },
  {
   "cell_type": "code",
   "execution_count": 14,
   "metadata": {},
   "outputs": [],
   "source": [
    "dropout=0.0\n",
    "hidden_size=[16,32,64]  \n",
    "conv_kernel= [8,4,3]\n",
    "pool_kernel=[8,4,3]\n",
    "assert (max_len/np.prod(pool_kernel))%1==0\n",
    "dilation= 'redef as 1'#[1,1]\n",
    "stride='redef as kernel_size'\n",
    "output_size=\"foo\"\n",
    "padding=[0,0,0]\n",
    "\"\"\"for d,k in list(zip(dilation,conv_kernel)):\n",
    "    padding.append((k-1)//2)#d*(k-1)//2)\"\"\"\n",
    "input_size=2\n",
    "batch_size=64\n",
    "loss_fn=torch.nn.MSELoss()\n",
    "\n",
    "learning_rate=1e-3\n",
    "verbose=False\n",
    "model_type=\"CNNAutoencoder\"\n",
    "\n",
    "model_name=str((model_type,learning_rate,hidden_size, dropout, conv_kernel,pool_kernel,dilation))"
   ]
  },
  {
   "cell_type": "code",
   "execution_count": 15,
   "metadata": {},
   "outputs": [],
   "source": [
    "torch.manual_seed(1)\n",
    "model=CNNAutoencoder(input_size,hidden_size,conv_kernel,pool_kernel ,padding,stride,dilation, dropout)\n",
    "\n",
    "model=model.to(device)\n",
    "optimizer = torch.optim.Adam(model.parameters(), lr=learning_rate)"
   ]
  },
  {
   "cell_type": "code",
   "execution_count": 16,
   "metadata": {
    "scrolled": true
   },
   "outputs": [
    {
     "name": "stdout",
     "output_type": "stream",
     "text": [
      "(17058, 17058)\n",
      "CNNAutoencoder(\n",
      "  (encoder): Sequential(\n",
      "    (0): Conv1d(2, 16, kernel_size=(8,), stride=(8,))\n",
      "    (1): ReLU()\n",
      "    (2): Dropout(p=0.0)\n",
      "    (3): Conv1d(16, 32, kernel_size=(4,), stride=(4,))\n",
      "    (4): ReLU()\n",
      "    (5): Dropout(p=0.0)\n",
      "    (6): Conv1d(32, 64, kernel_size=(3,), stride=(3,))\n",
      "    (7): ReLU()\n",
      "    (8): Dropout(p=0.0)\n",
      "  )\n",
      "  (decoder): Sequential(\n",
      "    (0): ConvTranspose1d(64, 32, kernel_size=(3,), stride=(3,))\n",
      "    (1): ReLU()\n",
      "    (2): Dropout(p=0.0)\n",
      "    (3): ConvTranspose1d(32, 16, kernel_size=(4,), stride=(4,))\n",
      "    (4): ReLU()\n",
      "    (5): Dropout(p=0.0)\n",
      "    (6): ConvTranspose1d(16, 2, kernel_size=(8,), stride=(8,))\n",
      "  )\n",
      ")\n",
      "Done. Spent 1m 31s\n"
     ]
    }
   ],
   "source": [
    "print(count_params(model))\n",
    "print(model)\n",
    "start = time()\n",
    "train_loss,test_loss=[],[]\n",
    "for epoch in range(10):\n",
    "    np.random.seed(1)\n",
    "    np.random.shuffle(train_set)#shuffle train_set to facilitate SGD\n",
    "    \n",
    "    #training\n",
    "    model.train()\n",
    "    batch_loss=0\n",
    "    for batch_i in range(0,len(train_set),batch_size):\n",
    "        batch=torch.Tensor(train_set[batch_i:batch_i+batch_size].copy()).transpose(1,2)\n",
    "        loss,output=step(batch, batch, model, optimizer, loss_fn, batch_size,False,device)\n",
    "        batch_loss+=loss\n",
    "    train_loss.append(batch_loss/(len(train_set)//batch_size))\n",
    "    \n",
    "    #testing\n",
    "    model.eval()\n",
    "    batch_loss=0\n",
    "    for batch_i in range(0,len(test_set),batch_size):\n",
    "        batch=torch.Tensor(test_set[batch_i:batch_i+batch_size].copy()).transpose(1,2)\n",
    "        loss,output=step(batch, batch, model, optimizer, loss_fn, batch_size,True,device)\n",
    "        batch_loss+=loss\n",
    "    test_loss.append(batch_loss/(len(test_set)//batch_size))\n",
    "    if verbose:\n",
    "        print(epoch,train_loss[-1],test_loss[-1])\n",
    "\n",
    "print(\"Done. Spent\",timeSince(start))"
   ]
  },
  {
   "cell_type": "code",
   "execution_count": 128,
   "metadata": {},
   "outputs": [
    {
     "data": {
      "text/plain": [
       "ConvTranspose1d(64, 32, kernel_size=(6,), stride=(3,), padding=(2,))"
      ]
     },
     "execution_count": 128,
     "metadata": {},
     "output_type": "execute_result"
    }
   ],
   "source": [
    "model.decoder[0]"
   ]
  },
  {
   "cell_type": "code",
   "execution_count": null,
   "metadata": {},
   "outputs": [],
   "source": [
    "model.encoder(target).shape"
   ]
  },
  {
   "cell_type": "code",
   "execution_count": 92,
   "metadata": {},
   "outputs": [],
   "source": [
    "directory = join(\"weights\", model_name)\n",
    "if not exists(directory):\n",
    "    makedirs(directory)\n",
    "torch.save({\n",
    "    'epoch': epoch,\n",
    "    'model': model.state_dict(),\n",
    "    'opt': optimizer.state_dict(),\n",
    "    'loss': test_loss[-1]\n",
    "}, join(directory, '{}_checkpoint.tar'.format(epoch)))"
   ]
  },
  {
   "cell_type": "code",
   "execution_count": 83,
   "metadata": {
    "scrolled": true
   },
   "outputs": [
    {
     "data": {
      "image/png": "[encoded data removed]",
      "text/plain": [
       "<Figure size 432x288 with 1 Axes>"
      ]
     },
     "metadata": {
      "needs_background": "light"
     },
     "output_type": "display_data"
    }
   ],
   "source": [
    "plot(0,train_loss,None,test_loss)"
   ]
  },
  {
   "cell_type": "code",
   "execution_count": 42,
   "metadata": {
    "collapsed": true
   },
   "outputs": [
    {
     "data": {
      "image/png": "[encoded data removed]",
      "text/plain": [
       "<Figure size 432x288 with 1 Axes>"
      ]
     },
     "metadata": {
      "needs_background": "light"
     },
     "output_type": "display_data"
    }
   ],
   "source": [
    "plot(0,train_loss,None,test_loss)"
   ]
  },
  {
   "cell_type": "code",
   "execution_count": 116,
   "metadata": {
    "collapsed": true
   },
   "outputs": [
    {
     "data": {
      "image/png": "[encoded data removed]",
      "text/plain": [
       "<Figure size 432x288 with 1 Axes>"
      ]
     },
     "metadata": {},
     "output_type": "display_data"
    }
   ],
   "source": [
    "plot(0,train_loss,None,test_loss)"
   ]
  },
  {
   "cell_type": "code",
   "execution_count": 106,
   "metadata": {
    "collapsed": true
   },
   "outputs": [
    {
     "data": {
      "image/png": "[encoded data removed]",
      "text/plain": [
       "<Figure size 432x288 with 1 Axes>"
      ]
     },
     "metadata": {},
     "output_type": "display_data"
    }
   ],
   "source": [
    "plot(0,train_loss,None,test_loss)"
   ]
  },
  {
   "cell_type": "code",
   "execution_count": 52,
   "metadata": {},
   "outputs": [
    {
     "data": {
      "text/plain": [
       "(64, 288, 2)"
      ]
     },
     "execution_count": 52,
     "metadata": {},
     "output_type": "execute_result"
    }
   ],
   "source": [
    "test_set[0:0+batch_size,:,::-1].shape"
   ]
  },
  {
   "cell_type": "code",
   "execution_count": 22,
   "metadata": {},
   "outputs": [],
   "source": [
    "batch=torch.Tensor(test_set[0:0+batch_size,:,:].copy()).transpose(1,2)\n",
    "loss,output=step(batch, batch, model, optimizer, loss_fn, batch_size,True,device)"
   ]
  },
  {
   "cell_type": "code",
   "execution_count": 20,
   "metadata": {},
   "outputs": [],
   "source": [
    "trim_to=50"
   ]
  },
  {
   "cell_type": "code",
   "execution_count": 26,
   "metadata": {
    "scrolled": false
   },
   "outputs": [
    {
     "data": {
      "image/png": "[encoded data removed]",
      "text/plain": [
       "<Figure size 432x288 with 1 Axes>"
      ]
     },
     "metadata": {
      "needs_background": "light"
     },
     "output_type": "display_data"
    }
   ],
   "source": [
    "plot_task(test_set[30,:trim_to])"
   ]
  },
  {
   "cell_type": "code",
   "execution_count": 76,
   "metadata": {},
   "outputs": [],
   "source": [
    "c1=model.encoder[0](batch.to(device))\n",
    "r1=model.encoder[1](c1)\n",
    "c2=model.encoder[3](r1)\n",
    "r2=model.encoder[4](c2)\n",
    "c3=model.encoder[6](r2)\n",
    "r3=model.encoder[7](c3)\n",
    "dc1=model.decoder[0](r3)\n",
    "dr1=model.decoder[1](dc1)\n",
    "dc2=model.decoder[3](dr1)\n",
    "dr2=model.decoder[4](dc2)\n",
    "dc3=model.decoder[6](dr2)"
   ]
  },
  {
   "cell_type": "code",
   "execution_count": 79,
   "metadata": {},
   "outputs": [
    {
     "data": {
      "text/plain": [
       "<matplotlib.image.AxesImage at 0x7f98b1e93e48>"
      ]
     },
     "execution_count": 79,
     "metadata": {},
     "output_type": "execute_result"
    },
    {
     "data": {
      "image/png": "[encoded data removed]",
      "text/plain": [
       "<Figure size 432x288 with 1 Axes>"
      ]
     },
     "metadata": {
      "needs_background": "light"
     },
     "output_type": "display_data"
    }
   ],
   "source": [
    "plt.imshow(test_set[30,:trim_to].T,cmap=\"gray\")"
   ]
  },
  {
   "cell_type": "code",
   "execution_count": 91,
   "metadata": {
    "scrolled": false
   },
   "outputs": [
    {
     "data": {
      "text/plain": [
       "<matplotlib.image.AxesImage at 0x7f98b1b62470>"
      ]
     },
     "execution_count": 91,
     "metadata": {},
     "output_type": "execute_result"
    },
    {
     "data": {
      "image/png": "[encoded data removed]",
      "text/plain": [
       "<Figure size 432x288 with 1 Axes>"
      ]
     },
     "metadata": {
      "needs_background": "light"
     },
     "output_type": "display_data"
    }
   ],
   "source": [
    "plt.imshow(dc3.detach().cpu().numpy()[30,:,:trim_to],cmap=\"gray\")"
   ]
  },
  {
   "cell_type": "code",
   "execution_count": 82,
   "metadata": {
    "scrolled": true
   },
   "outputs": [
    {
     "data": {
      "text/plain": [
       "<matplotlib.image.AxesImage at 0x7f98b1df9be0>"
      ]
     },
     "execution_count": 82,
     "metadata": {},
     "output_type": "execute_result"
    },
    {
     "data": {
      "image/png": "[encoded data removed]",
      "text/plain": [
       "<Figure size 432x288 with 1 Axes>"
      ]
     },
     "metadata": {
      "needs_background": "light"
     },
     "output_type": "display_data"
    }
   ],
   "source": [
    "plt.imshow(c1.detach().cpu().numpy()[30,:,:trim_to//8],cmap=\"gray\")"
   ]
  },
  {
   "cell_type": "code",
   "execution_count": 90,
   "metadata": {
    "scrolled": false
   },
   "outputs": [
    {
     "data": {
      "text/plain": [
       "<matplotlib.image.AxesImage at 0x7f98b1b8fd68>"
      ]
     },
     "execution_count": 90,
     "metadata": {},
     "output_type": "execute_result"
    },
    {
     "data": {
      "image/png": "[encoded data removed]",
      "text/plain": [
       "<Figure size 432x288 with 1 Axes>"
      ]
     },
     "metadata": {
      "needs_background": "light"
     },
     "output_type": "display_data"
    }
   ],
   "source": [
    "plt.imshow(dc2.detach().cpu().numpy()[30,:,:trim_to//8],cmap=\"gray\")"
   ]
  },
  {
   "cell_type": "code",
   "execution_count": 86,
   "metadata": {
    "scrolled": true
   },
   "outputs": [
    {
     "data": {
      "text/plain": [
       "<matplotlib.image.AxesImage at 0x7f98b1cea160>"
      ]
     },
     "execution_count": 86,
     "metadata": {},
     "output_type": "execute_result"
    },
    {
     "data": {
      "image/png": "[encoded data removed]",
      "text/plain": [
       "<Figure size 432x288 with 1 Axes>"
      ]
     },
     "metadata": {
      "needs_background": "light"
     },
     "output_type": "display_data"
    }
   ],
   "source": [
    "plt.imshow(c2.detach().cpu().numpy()[30,:,:trim_to//8],cmap=\"gray\")"
   ]
  },
  {
   "cell_type": "code",
   "execution_count": 89,
   "metadata": {
    "scrolled": false
   },
   "outputs": [
    {
     "data": {
      "text/plain": [
       "<matplotlib.image.AxesImage at 0x7f98b1bc4940>"
      ]
     },
     "execution_count": 89,
     "metadata": {},
     "output_type": "execute_result"
    },
    {
     "data": {
      "image/png": "[encoded data removed]",
      "text/plain": [
       "<Figure size 432x288 with 1 Axes>"
      ]
     },
     "metadata": {
      "needs_background": "light"
     },
     "output_type": "display_data"
    }
   ],
   "source": [
    "plt.imshow(dc1.detach().cpu().numpy()[30,:,:trim_to//8],cmap=\"gray\")"
   ]
  },
  {
   "cell_type": "code",
   "execution_count": 88,
   "metadata": {
    "scrolled": false
   },
   "outputs": [
    {
     "data": {
      "text/plain": [
       "<matplotlib.image.AxesImage at 0x7f98b1c7c828>"
      ]
     },
     "execution_count": 88,
     "metadata": {},
     "output_type": "execute_result"
    },
    {
     "data": {
      "image/png": "[encoded data removed]",
      "text/plain": [
       "<Figure size 432x288 with 1 Axes>"
      ]
     },
     "metadata": {
      "needs_background": "light"
     },
     "output_type": "display_data"
    }
   ],
   "source": [
    "plt.imshow(c3.detach().cpu().numpy()[30,:,:trim_to//8],cmap=\"gray\")"
   ]
  },
  {
   "cell_type": "code",
   "execution_count": 36,
   "metadata": {},
   "outputs": [
    {
     "data": {
      "text/plain": [
       "CNNAutoencoder(\n",
       "  (encoder): Sequential(\n",
       "    (0): Conv1d(2, 16, kernel_size=(8,), stride=(8,))\n",
       "    (1): ReLU()\n",
       "    (2): Dropout(p=0.0)\n",
       "    (3): Conv1d(16, 32, kernel_size=(4,), stride=(4,))\n",
       "    (4): ReLU()\n",
       "    (5): Dropout(p=0.0)\n",
       "    (6): Conv1d(32, 64, kernel_size=(3,), stride=(3,))\n",
       "    (7): ReLU()\n",
       "    (8): Dropout(p=0.0)\n",
       "  )\n",
       "  (decoder): Sequential(\n",
       "    (0): ConvTranspose1d(64, 32, kernel_size=(3,), stride=(3,))\n",
       "    (1): ReLU()\n",
       "    (2): Dropout(p=0.0)\n",
       "    (3): ConvTranspose1d(32, 16, kernel_size=(4,), stride=(4,))\n",
       "    (4): ReLU()\n",
       "    (5): Dropout(p=0.0)\n",
       "    (6): ConvTranspose1d(16, 2, kernel_size=(8,), stride=(8,))\n",
       "  )\n",
       ")"
      ]
     },
     "execution_count": 36,
     "metadata": {},
     "output_type": "execute_result"
    }
   ],
   "source": [
    "model"
   ]
  },
  {
   "cell_type": "code",
   "execution_count": 41,
   "metadata": {},
   "outputs": [],
   "source": [
    "c1=model.encoder(batch.to(device))"
   ]
  },
  {
   "cell_type": "code",
   "execution_count": 31,
   "metadata": {},
   "outputs": [
    {
     "data": {
      "text/plain": [
       "torch.Size([64, 16, 36])"
      ]
     },
     "execution_count": 31,
     "metadata": {},
     "output_type": "execute_result"
    }
   ],
   "source": [
    "c1.shape"
   ]
  },
  {
   "cell_type": "code",
   "execution_count": 44,
   "metadata": {
    "scrolled": false
   },
   "outputs": [
    {
     "data": {
      "image/png": "[encoded data removed]",
      "text/plain": [
       "<Figure size 432x288 with 1 Axes>"
      ]
     },
     "metadata": {
      "needs_background": "light"
     },
     "output_type": "display_data"
    }
   ],
   "source": [
    "plot_measures(test_set[30,:trim_to],False,(6,4))"
   ]
  },
  {
   "cell_type": "code",
   "execution_count": 28,
   "metadata": {
    "scrolled": true
   },
   "outputs": [
    {
     "data": {
      "image/png": "[encoded data removed]",
      "text/plain": [
       "<Figure size 432x288 with 1 Axes>"
      ]
     },
     "metadata": {
      "needs_background": "light"
     },
     "output_type": "display_data"
    }
   ],
   "source": [
    "plot_measures(output[30].T[:trim_to],False,(6,4))"
   ]
  },
  {
   "cell_type": "code",
   "execution_count": 89,
   "metadata": {
    "scrolled": false
   },
   "outputs": [
    {
     "data": {
      "image/png": "[encoded data removed]",
      "text/plain": [
       "<Figure size 432x288 with 1 Axes>"
      ]
     },
     "metadata": {
      "needs_background": "light"
     },
     "output_type": "display_data"
    }
   ],
   "source": [
    "plot_measures(output[i-1].T[:trim_to],False,(6,4))"
   ]
  },
  {
   "cell_type": "code",
   "execution_count": 45,
   "metadata": {},
   "outputs": [
    {
     "ename": "AttributeError",
     "evalue": "'CNNAutoencoder' object has no attribute 'conv1'",
     "output_type": "error",
     "traceback": [
      "\u001b[0;31m---------------------------------------------------------------------------\u001b[0m",
      "\u001b[0;31mAttributeError\u001b[0m                            Traceback (most recent call last)",
      "\u001b[0;32m<ipython-input-45-bcf362ce9fd2>\u001b[0m in \u001b[0;36m<module>\u001b[0;34m\u001b[0m\n\u001b[0;32m----> 1\u001b[0;31m \u001b[0mc1\u001b[0m\u001b[0;34m=\u001b[0m\u001b[0mmodel\u001b[0m\u001b[0;34m.\u001b[0m\u001b[0mconv1\u001b[0m\u001b[0;34m(\u001b[0m\u001b[0mbatch\u001b[0m\u001b[0;34m)\u001b[0m\u001b[0;34m\u001b[0m\u001b[0;34m\u001b[0m\u001b[0m\n\u001b[0m\u001b[1;32m      2\u001b[0m \u001b[0mr1\u001b[0m\u001b[0;34m=\u001b[0m\u001b[0mmodel\u001b[0m\u001b[0;34m.\u001b[0m\u001b[0mrelu1\u001b[0m\u001b[0;34m(\u001b[0m\u001b[0mc1\u001b[0m\u001b[0;34m)\u001b[0m\u001b[0;34m\u001b[0m\u001b[0;34m\u001b[0m\u001b[0m\n\u001b[1;32m      3\u001b[0m \u001b[0;34m\u001b[0m\u001b[0m\n\u001b[1;32m      4\u001b[0m \u001b[0;32mif\u001b[0m \u001b[0mmodel\u001b[0m\u001b[0;34m.\u001b[0m\u001b[0mnum_layers\u001b[0m \u001b[0;34m>\u001b[0m \u001b[0;36m1\u001b[0m\u001b[0;34m:\u001b[0m\u001b[0;34m\u001b[0m\u001b[0;34m\u001b[0m\u001b[0m\n\u001b[1;32m      5\u001b[0m     \u001b[0mdrop1\u001b[0m\u001b[0;34m=\u001b[0m\u001b[0mmodel\u001b[0m\u001b[0;34m.\u001b[0m\u001b[0mdrop1\u001b[0m\u001b[0;34m(\u001b[0m\u001b[0mr1\u001b[0m\u001b[0;34m)\u001b[0m\u001b[0;34m\u001b[0m\u001b[0;34m\u001b[0m\u001b[0m\n",
      "\u001b[0;32m~/anaconda3/envs/pytorch/lib/python3.7/site-packages/torch/nn/modules/module.py\u001b[0m in \u001b[0;36m__getattr__\u001b[0;34m(self, name)\u001b[0m\n\u001b[1;32m    533\u001b[0m                 \u001b[0;32mreturn\u001b[0m \u001b[0mmodules\u001b[0m\u001b[0;34m[\u001b[0m\u001b[0mname\u001b[0m\u001b[0;34m]\u001b[0m\u001b[0;34m\u001b[0m\u001b[0;34m\u001b[0m\u001b[0m\n\u001b[1;32m    534\u001b[0m         raise AttributeError(\"'{}' object has no attribute '{}'\".format(\n\u001b[0;32m--> 535\u001b[0;31m             type(self).__name__, name))\n\u001b[0m\u001b[1;32m    536\u001b[0m \u001b[0;34m\u001b[0m\u001b[0m\n\u001b[1;32m    537\u001b[0m     \u001b[0;32mdef\u001b[0m \u001b[0m__setattr__\u001b[0m\u001b[0;34m(\u001b[0m\u001b[0mself\u001b[0m\u001b[0;34m,\u001b[0m \u001b[0mname\u001b[0m\u001b[0;34m,\u001b[0m \u001b[0mvalue\u001b[0m\u001b[0;34m)\u001b[0m\u001b[0;34m:\u001b[0m\u001b[0;34m\u001b[0m\u001b[0;34m\u001b[0m\u001b[0m\n",
      "\u001b[0;31mAttributeError\u001b[0m: 'CNNAutoencoder' object has no attribute 'conv1'"
     ]
    }
   ],
   "source": [
    "c1=model.conv1(batch)\n",
    "r1=model.relu1(c1)\n",
    "\n",
    "if model.num_layers > 1:\n",
    "    drop1=model.drop1(r1)\n",
    "    c2=model.conv2(drop1)\n",
    "    r2=model.relu2(c2)\n",
    "    d_drop2=model.d_drop2(r2)\n",
    "    d_c2=model.d_conv2(d_drop2)\n",
    "    d_r2=model.d_relu2(d_c2)\n",
    "    d_drop1=model.d_drop1(d_r2)\n",
    "else:\n",
    "    d_drop1=model.d_drop1(r1)\n",
    "\n",
    "d_c1=model.d_conv1(d_drop1)"
   ]
  },
  {
   "cell_type": "code",
   "execution_count": 96,
   "metadata": {},
   "outputs": [
    {
     "data": {
      "text/plain": [
       "torch.Size([1, 16, 72])"
      ]
     },
     "execution_count": 96,
     "metadata": {},
     "output_type": "execute_result"
    }
   ],
   "source": [
    "c1.shape"
   ]
  },
  {
   "cell_type": "code",
   "execution_count": 99,
   "metadata": {},
   "outputs": [
    {
     "data": {
      "text/plain": [
       "torch.Size([1, 32, 18])"
      ]
     },
     "execution_count": 99,
     "metadata": {},
     "output_type": "execute_result"
    }
   ],
   "source": [
    "c2.shape"
   ]
  },
  {
   "cell_type": "code",
   "execution_count": 97,
   "metadata": {},
   "outputs": [
    {
     "data": {
      "text/plain": [
       "torch.Size([1, 16, 72])"
      ]
     },
     "execution_count": 97,
     "metadata": {},
     "output_type": "execute_result"
    }
   ],
   "source": [
    "d_c2.shape"
   ]
  },
  {
   "cell_type": "code",
   "execution_count": 98,
   "metadata": {},
   "outputs": [
    {
     "data": {
      "text/plain": [
       "torch.Size([1, 2, 288])"
      ]
     },
     "execution_count": 98,
     "metadata": {},
     "output_type": "execute_result"
    }
   ],
   "source": [
    "d_c1.shape"
   ]
  },
  {
   "cell_type": "code",
   "execution_count": null,
   "metadata": {},
   "outputs": [],
   "source": [
    "p1.shape"
   ]
  },
  {
   "cell_type": "code",
   "execution_count": null,
   "metadata": {},
   "outputs": [],
   "source": [
    "289/17"
   ]
  },
  {
   "cell_type": "code",
   "execution_count": null,
   "metadata": {},
   "outputs": [],
   "source": [
    "model"
   ]
  },
  {
   "cell_type": "code",
   "execution_count": null,
   "metadata": {
    "scrolled": true
   },
   "outputs": [],
   "source": [
    "plot_task(train_set[0],measure2index)"
   ]
  },
  {
   "cell_type": "code",
   "execution_count": null,
   "metadata": {},
   "outputs": [],
   "source": [
    "289/72"
   ]
  },
  {
   "cell_type": "markdown",
   "metadata": {},
   "source": [
    "# keep for ref"
   ]
  },
  {
   "cell_type": "code",
   "execution_count": 150,
   "metadata": {},
   "outputs": [
    {
     "data": {
      "text/plain": [
       "13.92721099123634"
      ]
     },
     "execution_count": 150,
     "metadata": {},
     "output_type": "execute_result"
    }
   ],
   "source": [
    "import torch\n",
    "\n",
    "class CNNAutoencoder(torch.nn.Module):\n",
    "    def __init__(self,input_size,hidden_size,conv_kernel,pool_kernel ,padding,\n",
    "                 stride=1,dilation=1, dropout=0.0):\n",
    "        super(CNNAutoencoder, self).__init__()\n",
    "\n",
    "        self.num_layers=len(hidden_size) \n",
    "                \n",
    "        #encoder\n",
    "        self.conv1=torch.nn.Conv1d(input_size,hidden_size[0],conv_kernel[0],stride=pool_kernel[0],padding=padding[0],dilation=dilation[0])\n",
    "        self.relu1=torch.nn.ReLU()\n",
    "        if self.num_layers > 1:\n",
    "            self.drop1=torch.nn.Dropout(dropout)\n",
    "            self.conv2=torch.nn.Conv1d(hidden_size[0],hidden_size[1],conv_kernel[1],stride=pool_kernel[1],padding=padding[1],dilation=dilation[1])\n",
    "            self.relu2=torch.nn.ReLU()\n",
    "        #self.drop2=torch.nn.Dropout(dropout)\n",
    "        \n",
    "        #decoder        \n",
    "        if self.num_layers > 1:\n",
    "            self.d_drop2=torch.nn.Dropout(dropout)\n",
    "            self.d_conv2=torch.nn.ConvTranspose1d(hidden_size[1],hidden_size[0],conv_kernel[1],stride=pool_kernel[1],\n",
    "                                         padding=padding[1],dilation=dilation[1])\n",
    "            self.d_relu2=torch.nn.ReLU()\n",
    "        self.d_drop1=torch.nn.Dropout(dropout)\n",
    "        self.d_conv1=torch.nn.ConvTranspose1d(hidden_size[0],input_size,conv_kernel[0],stride=pool_kernel[0],\n",
    "                                     padding=padding[0],dilation=dilation[0])\n",
    "        #self.sigmoid=torch.nn.Sigmoid()\n",
    "        \n",
    "    def forward(self,subject):\n",
    "        c1=self.conv1(subject)\n",
    "        r1=self.relu1(c1)\n",
    "\n",
    "        if self.num_layers > 1:\n",
    "            drop1=self.drop1(r1)\n",
    "            c2=self.conv2(drop1)\n",
    "            r2=self.relu2(c2)\n",
    "            d_drop2=self.d_drop2(r2)\n",
    "            d_c2=self.d_conv2(d_drop2)\n",
    "            d_r2=self.d_relu2(d_c2)\n",
    "            d_drop1=self.d_drop1(d_r2)\n",
    "        else:\n",
    "            d_drop1=self.d_drop1(r1)\n",
    "            \n",
    "        d_c1=self.d_conv1(d_drop1)\n",
    "        \n",
    "        return d_c1#self.sigmoid(d_c1)\n"
   ]
  },
  {
   "cell_type": "code",
   "execution_count": null,
   "metadata": {},
   "outputs": [],
   "source": [
    "import torch\n",
    "\n",
    "class CNNAutoencoder(torch.nn.Module):\n",
    "    def __init__(self,input_size,hidden_size,conv_kernel,pool_kernel ,padding,\n",
    "                 stride=1,dilation=1, dropout=0.0):\n",
    "        super(CNNAutoencoder, self).__init__()\n",
    "\n",
    "        self.num_layers=len(hidden_size) \n",
    "        \n",
    "        #encoder\n",
    "        self.conv1=torch.nn.utils.weight_norm(\n",
    "            torch.nn.Conv1d(input_size,hidden_size[0],conv_kernel[0],stride=1,padding=padding[0],dilation=dilation[0]))\n",
    "        self.relu1=torch.nn.ReLU()\n",
    "        self.pool1=torch.nn.MaxPool1d(pool_kernel[0],pool_kernel[0],padding=0,dilation=1)\n",
    "        if self.num_layers > 1:\n",
    "            self.drop1=torch.nn.Dropout(dropout)\n",
    "            self.conv2=torch.nn.utils.weight_norm(\n",
    "                torch.nn.Conv1d(hidden_size[0],hidden_size[1],conv_kernel[1],stride=1,padding=padding[1],dilation=dilation[1]))\n",
    "            self.relu2=torch.nn.ReLU()\n",
    "            self.pool2=torch.nn.MaxPool1d(pool_kernel[1],pool_kernel[1],padding=0,dilation=1)\n",
    "        self.drop2=torch.nn.Dropout(dropout)\n",
    "        \n",
    "        #decoder        \n",
    "        if self.num_layers > 1:\n",
    "            self.d_drop2=torch.nn.Dropout(dropout)\n",
    "            self.d_conv2=torch.nn.utils.weight_norm(\n",
    "                torch.nn.ConvTranspose1d(hidden_size[1],hidden_size[0],conv_kernel[1],stride=pool_kernel[1],\n",
    "                                         padding=padding[1],dilation=dilation[1],output_padding=pool_kernel[1]-1))\n",
    "            self.d_relu2=torch.nn.ReLU()\n",
    "        self.d_drop1=torch.nn.Dropout(dropout)\n",
    "        self.d_conv1=torch.nn.utils.weight_norm(\n",
    "            torch.nn.ConvTranspose1d(hidden_size[0],input_size,conv_kernel[0],stride=pool_kernel[0],\n",
    "                                     padding=padding[0],dilation=dilation[0],output_padding=pool_kernel[0]-1))\n",
    "        #self.sigmoid=torch.nn.Sigmoid()\n",
    "        \n",
    "    def forward(self,subject):\n",
    "        c1=self.conv1(subject)\n",
    "        r1=self.relu1(c1)\n",
    "        p1=self.pool1(r1)\n",
    "\n",
    "        if self.num_layers > 1:\n",
    "            drop1=self.drop1(p1)\n",
    "            c2=self.conv2(drop1)\n",
    "            r2=self.relu2(c2)\n",
    "            p2=self.pool2(r2)\n",
    "            drop2=self.drop2(p2)\n",
    "            d_c2=self.d_conv2(drop2)\n",
    "            d_r2=self.d_relu2(d_c2)\n",
    "            d_drop2=self.d_drop2(d_r2)\n",
    "        else:\n",
    "            d_drop2=self.drop2(p1)\n",
    "            \n",
    "        d_c1=self.d_conv1(d_drop2)\n",
    "        \n",
    "        return d_c1#self.sigmoid(d_c1)\n"
   ]
  },
  {
   "cell_type": "code",
   "execution_count": null,
   "metadata": {},
   "outputs": [],
   "source": [
    "c1=model.conv1(subject)\n",
    "r1=model.relu1(c1)\n",
    "p1=model.pool1(r1)\n",
    "\n",
    "if model.num_layers > 1:\n",
    "    drop1=model.drop1(p1)\n",
    "    c2=model.conv2(drop1)\n",
    "    r2=model.relu2(c2)\n",
    "    p2=model.pool2(r2)\n",
    "    drop2=model.drop2(p2)\n",
    "    d_c2=model.d_conv2(drop2)\n",
    "    d_r2=model.d_relu2(d_c2)\n",
    "    d_drop2=model.d_drop2(d_r2)\n",
    "else:\n",
    "    d_drop2=model.drop2(p1)\n",
    "\n",
    "d_c1=model.d_conv1(d_drop2)"
   ]
  }
 ],
 "metadata": {
  "kernelspec": {
   "display_name": "Python 3",
   "language": "python",
   "name": "python3"
  },
  "language_info": {
   "codemirror_mode": {
    "name": "ipython",
    "version": 3
   },
   "file_extension": ".py",
   "mimetype": "text/x-python",
   "name": "python",
   "nbconvert_exporter": "python",
   "pygments_lexer": "ipython3",
   "version": "3.7.2"
  }
 },
 "nbformat": 4,
 "nbformat_minor": 2
}
