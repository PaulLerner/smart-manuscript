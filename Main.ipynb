{
 "cells": [
  {
   "cell_type": "markdown",
   "metadata": {},
   "source": [
    "# max_len per stroke\n",
    "training set (0+1) | validation set (2) | test set (3)\n",
    "--|--|--\n",
    "289|233|218"
   ]
  },
  {
   "cell_type": "code",
   "execution_count": 1,
   "metadata": {},
   "outputs": [
    {
     "name": "stdout",
     "output_type": "stream",
     "text": [
      "using cuda device\n"
     ]
    }
   ],
   "source": [
    "#smart manuscript\n",
    "from smartmanuscript.corpus_iam import _import_set\n",
    "\n",
    "#visualization\n",
    "import matplotlib.pyplot as plt\n",
    "import seaborn as sns\n",
    "sns.set()\n",
    "sns.set_style(\"darkgrid\", {'axes.grid' : False})#for prettier plots\n",
    "#math tools\n",
    "import numpy as np\n",
    "#preprocessing\n",
    "from sklearn.preprocessing import scale\n",
    "#machine learning\n",
    "import torch\n",
    "from sklearn.model_selection import StratifiedKFold\n",
    "USE_CUDA = torch.cuda.is_available()\n",
    "device = torch.device(\"cuda\" if USE_CUDA else \"cpu\")\n",
    "print(\"using\",device,\"device\")\n",
    "#io\n",
    "from os.path import join\n",
    "from os.path import exists\n",
    "from os import makedirs\n",
    "from os import listdir\n",
    "import pickle\n",
    "import sys\n",
    "sys.path.append(\"..\")\n",
    "#utils\n",
    "from time import time\n",
    "import warnings\n",
    "#custom\n",
    "from parkinson_detection.modules.utils import *"
   ]
  },
  {
   "cell_type": "markdown",
   "metadata": {},
   "source": [
    "# Data loading"
   ]
  },
  {
   "cell_type": "code",
   "execution_count": 2,
   "metadata": {},
   "outputs": [],
   "source": [
    "set_numbers=[0,1,2,3,4]\n",
    "set_number=set_numbers[2]\n",
    "assert set_number in set_numbers\n",
    "iamondo_path=join(\"data\",\"IAMonDo-db-1.0\")\n",
    "max_len=289\n",
    "measure2index={\"x-coordinate\":0,\"y-coordinate\":1}\n",
    "index2measure=list(measure2index.keys())"
   ]
  },
  {
   "cell_type": "code",
   "execution_count": 42,
   "metadata": {},
   "outputs": [
    {
     "name": "stdout",
     "output_type": "stream",
     "text": [
      "(114564, 289, 2)\n",
      "(57562, 289, 2)\n"
     ]
    }
   ],
   "source": [
    "if False:    \n",
    "    if False:\n",
    "        words, lines = _import_set(iamondo_path, \"{}.set\".format(set_number), max_files=None)\n",
    "\n",
    "        data=np.asarray([stroke for word in words for stroke in  word[1]])\n",
    "    else:\n",
    "        data=np.load(join(\"data\",\"3.set.npy\"))\n",
    "        print(data.shape)\n",
    "    tmp=[]\n",
    "    for stroke in data:\n",
    "        stroke=scale(stroke,axis=0)\n",
    "        stroke=np.concatenate((stroke,np.zeros(shape=(max_len-len(stroke),stroke.shape[1]))))#zero-padding\n",
    "        tmp.append(stroke)\n",
    "    data=np.asarray(tmp)\n",
    "    print(data.shape)\n",
    "    np.save(\"data/padded_3.set.npy\",data)\n",
    "else:\n",
    "    train_set=np.load(join(\"data\",\"padded_0_1.set.npy\"))\n",
    "    test_set=np.load(join(\"data\",\"padded_3.set.npy\"))\n",
    "    print(train_set.shape)\n",
    "    print(test_set.shape)"
   ]
  }
 ],
 "metadata": {
  "kernelspec": {
   "display_name": "Python 3",
   "language": "python",
   "name": "python3"
  },
  "language_info": {
   "codemirror_mode": {
    "name": "ipython",
    "version": 3
   },
   "file_extension": ".py",
   "mimetype": "text/x-python",
   "name": "python",
   "nbconvert_exporter": "python",
   "pygments_lexer": "ipython3",
   "version": "3.7.2"
  }
 },
 "nbformat": 4,
 "nbformat_minor": 2
}
